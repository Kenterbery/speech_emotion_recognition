{
 "cells": [
  {
   "cell_type": "code",
   "execution_count": 5,
   "metadata": {
    "collapsed": true
   },
   "outputs": [],
   "source": [
    "\n",
    "import os\n",
    "import sys\n",
    "import re\n",
    "\n",
    "import numpy as np\n",
    "import pandas as pd\n",
    "import matplotlib.pyplot as plt\n",
    "import seaborn as sns\n",
    "\n",
    "import librosa\n",
    "import librosa.display\n",
    "\n",
    "from sklearn.preprocessing import OneHotEncoder, StandardScaler\n",
    "from sklearn.model_selection import train_test_split\n",
    "\n",
    "from keras import models\n",
    "from keras import layers\n",
    "from tensorflow.python.keras.callbacks import EarlyStopping, ReduceLROnPlateau\n",
    "\n",
    "from IPython.display import Audio\n",
    "\n",
    "import keras"
   ]
  },
  {
   "cell_type": "code",
   "execution_count": 6,
   "outputs": [],
   "source": [
    "Ravdess = \"/home/kenterbery/projects/speech_emotion_recognition/input/Ravdess/audio_speech_actors_01-24/\"\n",
    "Crema = \"/home/kenterbery/projects/speech_emotion_recognition/input/Crema/\"\n",
    "Savee = \"/home/kenterbery/projects/speech_emotion_recognition/input/Savee/\"\n",
    "Tess = \"/home/kenterbery/projects/speech_emotion_recognition/input/Tess/\""
   ],
   "metadata": {
    "collapsed": false,
    "pycharm": {
     "name": "#%%\n"
    }
   }
  },
  {
   "cell_type": "markdown",
   "source": [
    "Ravdess dataset"
   ],
   "metadata": {
    "collapsed": false
   }
  },
  {
   "cell_type": "code",
   "execution_count": 7,
   "outputs": [],
   "source": [
    "ravdess_directory_list = os.listdir(Ravdess)\n",
    "\n",
    "emotion_df = []\n",
    "\n",
    "for dir in ravdess_directory_list:\n",
    "    actor = os.listdir(Ravdess + dir)\n",
    "    for wav in actor:\n",
    "        info = wav.partition(\".wav\")[0].split(\"-\")\n",
    "        emotion = int(info[2])\n",
    "        emotion_df.append((emotion, Ravdess + dir + \"/\" + wav))"
   ],
   "metadata": {
    "collapsed": false,
    "pycharm": {
     "name": "#%%\n"
    }
   }
  },
  {
   "cell_type": "code",
   "execution_count": 8,
   "outputs": [],
   "source": [
    "Ravdess_df = pd.DataFrame.from_dict(emotion_df)\n",
    "Ravdess_df.rename(columns={1 : \"Path\", 0 : \"Emotion\"}, inplace=True)"
   ],
   "metadata": {
    "collapsed": false,
    "pycharm": {
     "name": "#%%\n"
    }
   }
  },
  {
   "cell_type": "code",
   "execution_count": 9,
   "outputs": [
    {
     "data": {
      "text/plain": "   Emotion                                               Path\n0  neutral  /home/kenterbery/projects/speech_emotion_recog...\n1  neutral  /home/kenterbery/projects/speech_emotion_recog...\n2  disgust  /home/kenterbery/projects/speech_emotion_recog...\n3  disgust  /home/kenterbery/projects/speech_emotion_recog...\n4  disgust  /home/kenterbery/projects/speech_emotion_recog...",
      "text/html": "<div>\n<style scoped>\n    .dataframe tbody tr th:only-of-type {\n        vertical-align: middle;\n    }\n\n    .dataframe tbody tr th {\n        vertical-align: top;\n    }\n\n    .dataframe thead th {\n        text-align: right;\n    }\n</style>\n<table border=\"1\" class=\"dataframe\">\n  <thead>\n    <tr style=\"text-align: right;\">\n      <th></th>\n      <th>Emotion</th>\n      <th>Path</th>\n    </tr>\n  </thead>\n  <tbody>\n    <tr>\n      <th>0</th>\n      <td>neutral</td>\n      <td>/home/kenterbery/projects/speech_emotion_recog...</td>\n    </tr>\n    <tr>\n      <th>1</th>\n      <td>neutral</td>\n      <td>/home/kenterbery/projects/speech_emotion_recog...</td>\n    </tr>\n    <tr>\n      <th>2</th>\n      <td>disgust</td>\n      <td>/home/kenterbery/projects/speech_emotion_recog...</td>\n    </tr>\n    <tr>\n      <th>3</th>\n      <td>disgust</td>\n      <td>/home/kenterbery/projects/speech_emotion_recog...</td>\n    </tr>\n    <tr>\n      <th>4</th>\n      <td>disgust</td>\n      <td>/home/kenterbery/projects/speech_emotion_recog...</td>\n    </tr>\n  </tbody>\n</table>\n</div>"
     },
     "execution_count": 9,
     "metadata": {},
     "output_type": "execute_result"
    }
   ],
   "source": [
    "Ravdess_df.Emotion.replace({1:'neutral', 2:'neutral', 3:'happy', 4:'sad', 5:'angry', 6:'fear', 7:'disgust', 8:'surprise'}, inplace=True)\n",
    "Ravdess_df.head()"
   ],
   "metadata": {
    "collapsed": false,
    "pycharm": {
     "name": "#%%\n"
    }
   }
  },
  {
   "cell_type": "markdown",
   "source": [
    "Crema dataset\n"
   ],
   "metadata": {
    "collapsed": false
   }
  },
  {
   "cell_type": "code",
   "execution_count": 10,
   "outputs": [
    {
     "data": {
      "text/plain": "   Emotion                                               Path\n0  disgust  /home/kenterbery/projects/speech_emotion_recog...\n1    happy  /home/kenterbery/projects/speech_emotion_recog...\n2      sad  /home/kenterbery/projects/speech_emotion_recog...\n3    happy  /home/kenterbery/projects/speech_emotion_recog...\n4  neutral  /home/kenterbery/projects/speech_emotion_recog...",
      "text/html": "<div>\n<style scoped>\n    .dataframe tbody tr th:only-of-type {\n        vertical-align: middle;\n    }\n\n    .dataframe tbody tr th {\n        vertical-align: top;\n    }\n\n    .dataframe thead th {\n        text-align: right;\n    }\n</style>\n<table border=\"1\" class=\"dataframe\">\n  <thead>\n    <tr style=\"text-align: right;\">\n      <th></th>\n      <th>Emotion</th>\n      <th>Path</th>\n    </tr>\n  </thead>\n  <tbody>\n    <tr>\n      <th>0</th>\n      <td>disgust</td>\n      <td>/home/kenterbery/projects/speech_emotion_recog...</td>\n    </tr>\n    <tr>\n      <th>1</th>\n      <td>happy</td>\n      <td>/home/kenterbery/projects/speech_emotion_recog...</td>\n    </tr>\n    <tr>\n      <th>2</th>\n      <td>sad</td>\n      <td>/home/kenterbery/projects/speech_emotion_recog...</td>\n    </tr>\n    <tr>\n      <th>3</th>\n      <td>happy</td>\n      <td>/home/kenterbery/projects/speech_emotion_recog...</td>\n    </tr>\n    <tr>\n      <th>4</th>\n      <td>neutral</td>\n      <td>/home/kenterbery/projects/speech_emotion_recog...</td>\n    </tr>\n  </tbody>\n</table>\n</div>"
     },
     "execution_count": 10,
     "metadata": {},
     "output_type": "execute_result"
    }
   ],
   "source": [
    "emotion_df = []\n",
    "\n",
    "for wav in os.listdir(Crema):\n",
    "    info = wav.partition(\".wav\")[0].split(\"_\")\n",
    "    if info[2] == 'SAD':\n",
    "        emotion_df.append((\"sad\", Crema + wav))\n",
    "    elif info[2] == 'ANG':\n",
    "        emotion_df.append((\"angry\", Crema + wav))\n",
    "    elif info[2] == 'DIS':\n",
    "        emotion_df.append((\"disgust\", Crema + wav))\n",
    "    elif info[2] == 'FEA':\n",
    "        emotion_df.append((\"fear\", Crema + wav))\n",
    "    elif info[2] == 'HAP':\n",
    "        emotion_df.append((\"happy\", Crema + wav))\n",
    "    elif info[2] == 'NEU':\n",
    "        emotion_df.append((\"neutral\", Crema + wav))\n",
    "    else:\n",
    "        emotion_df.append((\"unknown\", Crema + wav))\n",
    "\n",
    "\n",
    "Crema_df = pd.DataFrame.from_dict(emotion_df)\n",
    "Crema_df.rename(columns={1 : \"Path\", 0 : \"Emotion\"}, inplace=True)\n",
    "\n",
    "Crema_df.head()"
   ],
   "metadata": {
    "collapsed": false,
    "pycharm": {
     "name": "#%%\n"
    }
   }
  },
  {
   "cell_type": "markdown",
   "source": [
    "TESS dataset"
   ],
   "metadata": {
    "collapsed": false
   }
  },
  {
   "cell_type": "code",
   "execution_count": 11,
   "outputs": [
    {
     "data": {
      "text/plain": "  Emotion                                               Path\n0     sad  /home/kenterbery/projects/speech_emotion_recog...\n1     sad  /home/kenterbery/projects/speech_emotion_recog...\n2     sad  /home/kenterbery/projects/speech_emotion_recog...\n3     sad  /home/kenterbery/projects/speech_emotion_recog...\n4     sad  /home/kenterbery/projects/speech_emotion_recog...",
      "text/html": "<div>\n<style scoped>\n    .dataframe tbody tr th:only-of-type {\n        vertical-align: middle;\n    }\n\n    .dataframe tbody tr th {\n        vertical-align: top;\n    }\n\n    .dataframe thead th {\n        text-align: right;\n    }\n</style>\n<table border=\"1\" class=\"dataframe\">\n  <thead>\n    <tr style=\"text-align: right;\">\n      <th></th>\n      <th>Emotion</th>\n      <th>Path</th>\n    </tr>\n  </thead>\n  <tbody>\n    <tr>\n      <th>0</th>\n      <td>sad</td>\n      <td>/home/kenterbery/projects/speech_emotion_recog...</td>\n    </tr>\n    <tr>\n      <th>1</th>\n      <td>sad</td>\n      <td>/home/kenterbery/projects/speech_emotion_recog...</td>\n    </tr>\n    <tr>\n      <th>2</th>\n      <td>sad</td>\n      <td>/home/kenterbery/projects/speech_emotion_recog...</td>\n    </tr>\n    <tr>\n      <th>3</th>\n      <td>sad</td>\n      <td>/home/kenterbery/projects/speech_emotion_recog...</td>\n    </tr>\n    <tr>\n      <th>4</th>\n      <td>sad</td>\n      <td>/home/kenterbery/projects/speech_emotion_recog...</td>\n    </tr>\n  </tbody>\n</table>\n</div>"
     },
     "execution_count": 11,
     "metadata": {},
     "output_type": "execute_result"
    }
   ],
   "source": [
    "tess_directory_list = os.listdir(Tess)\n",
    "\n",
    "emotion_df = []\n",
    "\n",
    "for dir in tess_directory_list:\n",
    "    for wav in os.listdir(Tess + dir):\n",
    "        info = wav.partition(\".wav\")[0].split(\"_\")\n",
    "        emo = info[2]\n",
    "        if emo == \"ps\":\n",
    "            emotion_df.append((\"surprise\", Tess + dir + \"/\" + wav))\n",
    "        else:\n",
    "            emotion_df.append((emo, Tess + dir + \"/\" + wav))\n",
    "\n",
    "\n",
    "Tess_df = pd.DataFrame.from_dict(emotion_df)\n",
    "Tess_df.rename(columns={1 : \"Path\", 0 : \"Emotion\"}, inplace=True)\n",
    "\n",
    "Tess_df.head()"
   ],
   "metadata": {
    "collapsed": false,
    "pycharm": {
     "name": "#%%\n"
    }
   }
  },
  {
   "cell_type": "code",
   "execution_count": 12,
   "outputs": [
    {
     "data": {
      "text/plain": "   Emotion                                               Path\n0      sad  /home/kenterbery/projects/speech_emotion_recog...\n1  neutral  /home/kenterbery/projects/speech_emotion_recog...\n2  disgust  /home/kenterbery/projects/speech_emotion_recog...\n3    angry  /home/kenterbery/projects/speech_emotion_recog...\n4  disgust  /home/kenterbery/projects/speech_emotion_recog...",
      "text/html": "<div>\n<style scoped>\n    .dataframe tbody tr th:only-of-type {\n        vertical-align: middle;\n    }\n\n    .dataframe tbody tr th {\n        vertical-align: top;\n    }\n\n    .dataframe thead th {\n        text-align: right;\n    }\n</style>\n<table border=\"1\" class=\"dataframe\">\n  <thead>\n    <tr style=\"text-align: right;\">\n      <th></th>\n      <th>Emotion</th>\n      <th>Path</th>\n    </tr>\n  </thead>\n  <tbody>\n    <tr>\n      <th>0</th>\n      <td>sad</td>\n      <td>/home/kenterbery/projects/speech_emotion_recog...</td>\n    </tr>\n    <tr>\n      <th>1</th>\n      <td>neutral</td>\n      <td>/home/kenterbery/projects/speech_emotion_recog...</td>\n    </tr>\n    <tr>\n      <th>2</th>\n      <td>disgust</td>\n      <td>/home/kenterbery/projects/speech_emotion_recog...</td>\n    </tr>\n    <tr>\n      <th>3</th>\n      <td>angry</td>\n      <td>/home/kenterbery/projects/speech_emotion_recog...</td>\n    </tr>\n    <tr>\n      <th>4</th>\n      <td>disgust</td>\n      <td>/home/kenterbery/projects/speech_emotion_recog...</td>\n    </tr>\n  </tbody>\n</table>\n</div>"
     },
     "execution_count": 12,
     "metadata": {},
     "output_type": "execute_result"
    }
   ],
   "source": [
    "savee_directiory_list = os.listdir(Savee)\n",
    "\n",
    "emotion_df = []\n",
    "\n",
    "for wav in savee_directiory_list:\n",
    "    info = wav.partition(\".wav\")[0].split(\"_\")[1].replace(r\"[0-9]\", \"\")\n",
    "    emotion = re.split(r\"[0-9]\", info)[0]\n",
    "    if emotion=='a':\n",
    "        emotion_df.append((\"angry\", Savee + wav))\n",
    "    elif emotion=='d':\n",
    "        emotion_df.append((\"disgust\", Savee + wav))\n",
    "    elif emotion=='f':\n",
    "        emotion_df.append((\"fear\", Savee + wav))\n",
    "    elif emotion=='h':\n",
    "        emotion_df.append((\"happy\", Savee + wav))\n",
    "    elif emotion=='n':\n",
    "        emotion_df.append((\"neutral\", Savee + wav))\n",
    "    elif emotion=='sa':\n",
    "        emotion_df.append((\"sad\", Savee + wav))\n",
    "    else:\n",
    "        emotion_df.append((\"surprise\", Savee + wav))\n",
    "\n",
    "\n",
    "Savee_df = pd.DataFrame.from_dict(emotion_df)\n",
    "Savee_df.rename(columns={1 : \"Path\", 0 : \"Emotion\"}, inplace=True)\n",
    "\n",
    "Savee_df.head()"
   ],
   "metadata": {
    "collapsed": false,
    "pycharm": {
     "name": "#%%\n"
    }
   }
  },
  {
   "cell_type": "code",
   "execution_count": 13,
   "outputs": [
    {
     "data": {
      "text/plain": "(12162, 2)"
     },
     "execution_count": 13,
     "metadata": {},
     "output_type": "execute_result"
    }
   ],
   "source": [
    "df = pd.concat([Ravdess_df, Crema_df, Tess_df, Savee_df], axis=0)\n",
    "df.shape"
   ],
   "metadata": {
    "collapsed": false,
    "pycharm": {
     "name": "#%%\n"
    }
   }
  },
  {
   "cell_type": "code",
   "execution_count": 14,
   "outputs": [
    {
     "data": {
      "text/plain": "   Emotion                                               Path\n0  neutral  /home/kenterbery/projects/speech_emotion_recog...\n1  neutral  /home/kenterbery/projects/speech_emotion_recog...\n2  disgust  /home/kenterbery/projects/speech_emotion_recog...\n3  disgust  /home/kenterbery/projects/speech_emotion_recog...\n4  disgust  /home/kenterbery/projects/speech_emotion_recog...",
      "text/html": "<div>\n<style scoped>\n    .dataframe tbody tr th:only-of-type {\n        vertical-align: middle;\n    }\n\n    .dataframe tbody tr th {\n        vertical-align: top;\n    }\n\n    .dataframe thead th {\n        text-align: right;\n    }\n</style>\n<table border=\"1\" class=\"dataframe\">\n  <thead>\n    <tr style=\"text-align: right;\">\n      <th></th>\n      <th>Emotion</th>\n      <th>Path</th>\n    </tr>\n  </thead>\n  <tbody>\n    <tr>\n      <th>0</th>\n      <td>neutral</td>\n      <td>/home/kenterbery/projects/speech_emotion_recog...</td>\n    </tr>\n    <tr>\n      <th>1</th>\n      <td>neutral</td>\n      <td>/home/kenterbery/projects/speech_emotion_recog...</td>\n    </tr>\n    <tr>\n      <th>2</th>\n      <td>disgust</td>\n      <td>/home/kenterbery/projects/speech_emotion_recog...</td>\n    </tr>\n    <tr>\n      <th>3</th>\n      <td>disgust</td>\n      <td>/home/kenterbery/projects/speech_emotion_recog...</td>\n    </tr>\n    <tr>\n      <th>4</th>\n      <td>disgust</td>\n      <td>/home/kenterbery/projects/speech_emotion_recog...</td>\n    </tr>\n  </tbody>\n</table>\n</div>"
     },
     "execution_count": 14,
     "metadata": {},
     "output_type": "execute_result"
    }
   ],
   "source": [
    "df.head()"
   ],
   "metadata": {
    "collapsed": false,
    "pycharm": {
     "name": "#%%\n"
    }
   }
  },
  {
   "cell_type": "code",
   "execution_count": 15,
   "outputs": [],
   "source": [
    "%matplotlib inline\n",
    "\n",
    "plt.style.use(\"ggplot\")"
   ],
   "metadata": {
    "collapsed": false,
    "pycharm": {
     "name": "#%%\n"
    }
   }
  },
  {
   "cell_type": "code",
   "execution_count": 16,
   "outputs": [
    {
     "data": {
      "text/plain": "<Figure size 432x288 with 1 Axes>",
      "image/png": "[encoded data removed]"
     },
     "metadata": {},
     "output_type": "display_data"
    }
   ],
   "source": [
    "plt.title(\"Count of emotions:\")\n",
    "sns.countplot(x=df[\"Emotion\"])\n",
    "sns.despine(top=True, right=True, left=False, bottom=False)"
   ],
   "metadata": {
    "collapsed": false,
    "pycharm": {
     "name": "#%%\n"
    }
   }
  },
  {
   "cell_type": "code",
   "execution_count": 17,
   "outputs": [
    {
     "data": {
      "text/plain": "   Emotion                                               Path\n0  neutral  /home/kenterbery/projects/speech_emotion_recog...\n1  neutral  /home/kenterbery/projects/speech_emotion_recog...\n2  disgust  /home/kenterbery/projects/speech_emotion_recog...\n3  disgust  /home/kenterbery/projects/speech_emotion_recog...\n4  disgust  /home/kenterbery/projects/speech_emotion_recog...\n5    angry  /home/kenterbery/projects/speech_emotion_recog...\n6    angry  /home/kenterbery/projects/speech_emotion_recog...\n7    happy  /home/kenterbery/projects/speech_emotion_recog...\n8     fear  /home/kenterbery/projects/speech_emotion_recog...\n9    angry  /home/kenterbery/projects/speech_emotion_recog...",
      "text/html": "<div>\n<style scoped>\n    .dataframe tbody tr th:only-of-type {\n        vertical-align: middle;\n    }\n\n    .dataframe tbody tr th {\n        vertical-align: top;\n    }\n\n    .dataframe thead th {\n        text-align: right;\n    }\n</style>\n<table border=\"1\" class=\"dataframe\">\n  <thead>\n    <tr style=\"text-align: right;\">\n      <th></th>\n      <th>Emotion</th>\n      <th>Path</th>\n    </tr>\n  </thead>\n  <tbody>\n    <tr>\n      <th>0</th>\n      <td>neutral</td>\n      <td>/home/kenterbery/projects/speech_emotion_recog...</td>\n    </tr>\n    <tr>\n      <th>1</th>\n      <td>neutral</td>\n      <td>/home/kenterbery/projects/speech_emotion_recog...</td>\n    </tr>\n    <tr>\n      <th>2</th>\n      <td>disgust</td>\n      <td>/home/kenterbery/projects/speech_emotion_recog...</td>\n    </tr>\n    <tr>\n      <th>3</th>\n      <td>disgust</td>\n      <td>/home/kenterbery/projects/speech_emotion_recog...</td>\n    </tr>\n    <tr>\n      <th>4</th>\n      <td>disgust</td>\n      <td>/home/kenterbery/projects/speech_emotion_recog...</td>\n    </tr>\n    <tr>\n      <th>5</th>\n      <td>angry</td>\n      <td>/home/kenterbery/projects/speech_emotion_recog...</td>\n    </tr>\n    <tr>\n      <th>6</th>\n      <td>angry</td>\n      <td>/home/kenterbery/projects/speech_emotion_recog...</td>\n    </tr>\n    <tr>\n      <th>7</th>\n      <td>happy</td>\n      <td>/home/kenterbery/projects/speech_emotion_recog...</td>\n    </tr>\n    <tr>\n      <th>8</th>\n      <td>fear</td>\n      <td>/home/kenterbery/projects/speech_emotion_recog...</td>\n    </tr>\n    <tr>\n      <th>9</th>\n      <td>angry</td>\n      <td>/home/kenterbery/projects/speech_emotion_recog...</td>\n    </tr>\n  </tbody>\n</table>\n</div>"
     },
     "execution_count": 17,
     "metadata": {},
     "output_type": "execute_result"
    }
   ],
   "source": [
    "df.head(10)"
   ],
   "metadata": {
    "collapsed": false,
    "pycharm": {
     "name": "#%%\n"
    }
   }
  },
  {
   "cell_type": "code",
   "execution_count": 24,
   "outputs": [],
   "source": [
    "def create_spectrogram_plot(data, output_path):\n",
    "    # X = librosa.stft(data)\n",
    "    # Xdb = librosa.amplitude_to_db(abs(X), ref=np.max)\n",
    "\n",
    "    # For plotting headlessly\n",
    "    from matplotlib.backends.backend_agg import FigureCanvasAgg as FigureCanvas\n",
    "    # fig = plt.Figure()\n",
    "    # canvas = FigureCanvas(fig)\n",
    "    # ax = fig.add_subplot(111)\n",
    "    # librosa.display.specshow(Xdb, cmap=\"gray_r\")\n",
    "    # fig.savefig(output_path)\n",
    "\n",
    "    fig = plt.Figure()\n",
    "    # canvas = FigureCanvas(fig)\n",
    "    ax = fig.add_subplot(111)\n",
    "    p = librosa.display.specshow(Xdb, ax=ax, cmap=\"magma\",)\n",
    "    fig.savefig(output_path,  bbox_inches='tight', pad_inches=0)\n",
    "#\n",
    "#\n",
    "def create_spectrogram(data, sr):\n",
    "    X = librosa.stft(data)\n",
    "    Xdb = librosa.amplitude_to_db(abs(X), ref=np.max)\n",
    "\n",
    "    return Xdb\n",
    "\n",
    "def create_mel_spectrogram(data, sr):\n",
    "    melspec = librosa.feature.melspectrogram(data, sr=sr, n_mels=128)\n",
    "    melspec = librosa.power_to_db(melspec).astype(np.float32)\n",
    "\n",
    "    return melspec"
   ],
   "metadata": {
    "collapsed": false,
    "pycharm": {
     "name": "#%%\n"
    }
   }
  },
  {
   "cell_type": "code",
   "execution_count": 46,
   "outputs": [
    {
     "name": "stderr",
     "output_type": "stream",
     "text": [
      "/home/kenterbery/anaconda3/envs/speech_emotion_recognition/lib/python3.7/site-packages/librosa/display.py:974: MatplotlibDeprecationWarning: The 'basey' parameter of __init__() has been renamed 'base' since Matplotlib 3.3; support for the old name will be dropped two minor releases later.\n",
      "  scaler(mode, **kwargs)\n",
      "/home/kenterbery/anaconda3/envs/speech_emotion_recognition/lib/python3.7/site-packages/librosa/display.py:974: MatplotlibDeprecationWarning: The 'linthreshy' parameter of __init__() has been renamed 'linthresh' since Matplotlib 3.3; support for the old name will be dropped two minor releases later.\n",
      "  scaler(mode, **kwargs)\n"
     ]
    },
    {
     "data": {
      "text/plain": "array([[-13.458101 , -16.44117  , -16.171364 , ..., -99.       ,\n        -99.       , -99.       ],\n       [ -9.831385 , -15.019043 , -17.799133 , ..., -99.       ,\n        -99.       , -99.       ],\n       [ -3.2410712,  -8.027384 , -12.685162 , ..., -99.       ,\n        -99.       , -99.       ],\n       ...,\n       [-50.61589  , -55.23037  , -55.23037  , ..., -99.       ,\n        -99.       , -99.       ],\n       [-50.72476  , -55.23037  , -55.23037  , ..., -99.       ,\n        -99.       , -99.       ],\n       [-50.794136 , -55.23037  , -55.23037  , ..., -99.       ,\n        -99.       , -99.       ]], dtype=float32)"
     },
     "execution_count": 46,
     "metadata": {},
     "output_type": "execute_result"
    },
    {
     "data": {
      "text/plain": "<Figure size 432x288 with 1 Axes>",
      "image/png": "[encoded data removed]"
     },
     "metadata": {},
     "output_type": "display_data"
    }
   ],
   "source": [
    "path = np.array(df[\"Path\"][df[\"Emotion\"] == \"happy\"])[555]\n",
    "\n",
    "data, sample_rate = librosa.load(path, duration=3, offset=0.6)\n",
    "mel = create_mel_spectrogram(data, sample_rate)\n",
    "librosa.display.specshow(mel, x_axis=\"time\", y_axis=\"mel\", sr=sample_rate, cmap=\"magma\")\n",
    "target = np.zeros((128, 150), dtype=mel.dtype)\n",
    "t = np.pad(mel, ((0,0),(0,3)), mode='constant', constant_values=-99)\n",
    "t"
   ],
   "metadata": {
    "collapsed": false,
    "pycharm": {
     "name": "#%%\n"
    }
   }
  },
  {
   "cell_type": "code",
   "execution_count": 47,
   "outputs": [
    {
     "name": "stderr",
     "output_type": "stream",
     "text": [
      "/home/kenterbery/anaconda3/envs/speech_emotion_recognition/lib/python3.7/site-packages/librosa/display.py:974: MatplotlibDeprecationWarning: The 'basey' parameter of __init__() has been renamed 'base' since Matplotlib 3.3; support for the old name will be dropped two minor releases later.\n",
      "  scaler(mode, **kwargs)\n",
      "/home/kenterbery/anaconda3/envs/speech_emotion_recognition/lib/python3.7/site-packages/librosa/display.py:974: MatplotlibDeprecationWarning: The 'linthreshy' parameter of __init__() has been renamed 'linthresh' since Matplotlib 3.3; support for the old name will be dropped two minor releases later.\n",
      "  scaler(mode, **kwargs)\n"
     ]
    },
    {
     "data": {
      "text/plain": "<matplotlib.collections.QuadMesh at 0x7f8ea7798750>"
     },
     "execution_count": 47,
     "metadata": {},
     "output_type": "execute_result"
    },
    {
     "data": {
      "text/plain": "<Figure size 432x288 with 1 Axes>",
      "image/png": "[encoded data removed]"
     },
     "metadata": {},
     "output_type": "display_data"
    }
   ],
   "source": [
    "librosa.display.specshow(t, x_axis=\"time\", y_axis=\"mel\", sr=sample_rate, cmap=\"magma\")\n",
    "\n"
   ],
   "metadata": {
    "collapsed": false,
    "pycharm": {
     "name": "#%%\n"
    }
   }
  },
  {
   "cell_type": "markdown",
   "source": [
    "\n",
    "### Data augmentation"
   ],
   "metadata": {
    "collapsed": false
   }
  },
  {
   "cell_type": "code",
   "execution_count": 161,
   "outputs": [],
   "source": [
    "def noise(data, rate=0.035):\n",
    "    noise_amp = rate*np.random.uniform()*np.amax(data)\n",
    "    data = data + noise_amp*np.random.normal(size=data.shape[0])\n",
    "    return data\n",
    "\n",
    "def stretch(data, rate=0.8):\n",
    "    return librosa.effects.time_stretch(data, rate)\n",
    "\n",
    "def shift(data, rate=1000):\n",
    "    shift_range = int(np.random.uniform(low=-5, high = 5)*rate)\n",
    "    return np.roll(data, shift_range)\n",
    "\n",
    "def pitch(data, sampling_rate, pitch_factor=0.7):\n",
    "    return librosa.effects.pitch_shift(data, sampling_rate, pitch_factor)"
   ],
   "metadata": {
    "collapsed": false,
    "pycharm": {
     "name": "#%%\n"
    }
   }
  },
  {
   "cell_type": "code",
   "execution_count": 162,
   "outputs": [],
   "source": [
    "output_path = \"/home/kenterbery/projects/speech_emotion_recognition/spectrograms/\"\n",
    "\n",
    "def get_specs(path, label, output_path=output_path):\n",
    "    # duration and offset are used to take care of the no audio in start and the ending of each audio files as seen above.\n",
    "    data, sample_rate = librosa.load(path, duration=3, offset=0.6)\n",
    "\n",
    "     # without augmentation\n",
    "    out = output_path + label + \"/\" + str(hash(path))\n",
    "    create_spectrogram_plot(data, output_path=out)\n",
    "    # result = np.array(res1)\n",
    "\n",
    "    # data with noise\n",
    "    noise_data = noise(data)\n",
    "    out = output_path + label + \"/\" + str(hash(path) + hash(\"noise\"))\n",
    "    create_spectrogram_plot(noise_data, output_path=out)\n",
    "    # result = np.vstack((result, res2)) # stacking vertically\n",
    "\n",
    "    # data with stretching and pitching\n",
    "    new_data = stretch(data)\n",
    "    data_stretch_pitch = pitch(new_data, sample_rate)\n",
    "    out = output_path + label + \"/\" + str(hash(path) + hash(\"stretch_pitch\"))\n",
    "    create_spectrogram_plot(data_stretch_pitch, output_path=out)\n",
    "    # result = np.vstack((result, res3)) # stacking vertically"
   ],
   "metadata": {
    "collapsed": false,
    "pycharm": {
     "name": "#%%\n"
    }
   }
  },
  {
   "cell_type": "code",
   "execution_count": 163,
   "outputs": [
    {
     "name": "stdout",
     "output_type": "stream",
     "text": [
      "Start processing...\n",
      "500 samples has been processed...\n",
      "1000 samples has been processed...\n",
      "1500 samples has been processed...\n",
      "2000 samples has been processed...\n",
      "2500 samples has been processed...\n",
      "3000 samples has been processed...\n",
      "3500 samples has been processed...\n",
      "4000 samples has been processed...\n",
      "4500 samples has been processed...\n",
      "5000 samples has been processed...\n",
      "5500 samples has been processed...\n",
      "6000 samples has been processed...\n",
      "6500 samples has been processed...\n",
      "7000 samples has been processed...\n",
      "7500 samples has been processed...\n",
      "8000 samples has been processed...\n",
      "8500 samples has been processed...\n",
      "9000 samples has been processed...\n",
      "9500 samples has been processed...\n",
      "10000 samples has been processed...\n",
      "10500 samples has been processed...\n",
      "11000 samples has been processed...\n",
      "11500 samples has been processed...\n",
      "12000 samples has been processed...\n",
      "Done.\n"
     ]
    }
   ],
   "source": [
    "print(\"Start processing...\")\n",
    "for path, emotion, ind in zip(df.Path, df.Emotion, range(df.Path.shape[0])):\n",
    "    get_specs(path, emotion)\n",
    "    if ind % 500 == 0 and ind != 0:\n",
    "        print(f\"{ind} samples has been processed...\")\n",
    "print(\"Done.\")"
   ],
   "metadata": {
    "collapsed": false,
    "pycharm": {
     "name": "#%%\n"
    }
   }
  },
  {
   "cell_type": "code",
   "execution_count": 54,
   "outputs": [
    {
     "data": {
      "text/plain": "7"
     },
     "execution_count": 54,
     "metadata": {},
     "output_type": "execute_result"
    }
   ],
   "source": [
    "import os\n",
    "\n",
    "len(os.listdir(\"spectrograms/\"))"
   ],
   "metadata": {
    "collapsed": false,
    "pycharm": {
     "name": "#%%\n"
    }
   }
  },
  {
   "cell_type": "code",
   "execution_count": 54,
   "outputs": [],
   "source": [
    "\n",
    "\n"
   ],
   "metadata": {
    "collapsed": false,
    "pycharm": {
     "name": "#%%\n"
    }
   }
  }
 ],
 "metadata": {
  "kernelspec": {
   "display_name": "Python 3",
   "language": "python",
   "name": "python3"
  },
  "language_info": {
   "codemirror_mode": {
    "name": "ipython",
    "version": 2
   },
   "file_extension": ".py",
   "mimetype": "text/x-python",
   "name": "python",
   "nbconvert_exporter": "python",
   "pygments_lexer": "ipython2",
   "version": "2.7.6"
  }
 },
 "nbformat": 4,
 "nbformat_minor": 0
}