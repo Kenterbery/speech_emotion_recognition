{
 "cells": [
  {
   "cell_type": "code",
   "execution_count": 42,
   "metadata": {
    "collapsed": true
   },
   "outputs": [],
   "source": [
    "\n",
    "import os\n",
    "import re\n",
    "\n",
    "import numpy as np\n",
    "import pandas as pd\n",
    "import matplotlib.pyplot as plt\n",
    "import seaborn as sns\n",
    "\n",
    "import librosa\n",
    "import librosa.display\n",
    "\n",
    "import keras.models\n",
    "import keras.layers"
   ]
  },
  {
   "cell_type": "code",
   "execution_count": 43,
   "outputs": [],
   "source": [
    "Ravdess = \"/home/kenterbery/projects/speech_emotion_recognition/input/Ravdess/audio_speech_actors_01-24/\"\n",
    "Crema = \"/home/kenterbery/projects/speech_emotion_recognition/input/Crema/\"\n",
    "Savee = \"/home/kenterbery/projects/speech_emotion_recognition/input/Savee/\"\n",
    "Tess = \"/home/kenterbery/projects/speech_emotion_recognition/input/Tess/\""
   ],
   "metadata": {
    "collapsed": false,
    "pycharm": {
     "name": "#%%\n"
    }
   }
  },
  {
   "cell_type": "markdown",
   "source": [
    "Ravdess dataset"
   ],
   "metadata": {
    "collapsed": false
   }
  },
  {
   "cell_type": "code",
   "execution_count": 44,
   "outputs": [],
   "source": [
    "ravdess_directory_list = os.listdir(Ravdess)\n",
    "\n",
    "emotion_df = []\n",
    "\n",
    "for dir in ravdess_directory_list:\n",
    "    actor = os.listdir(Ravdess + dir)\n",
    "    for wav in actor:\n",
    "        info = wav.partition(\".wav\")[0].split(\"-\")\n",
    "        emotion = int(info[2])\n",
    "        emotion_df.append((emotion, Ravdess + dir + \"/\" + wav))"
   ],
   "metadata": {
    "collapsed": false,
    "pycharm": {
     "name": "#%%\n"
    }
   }
  },
  {
   "cell_type": "code",
   "execution_count": 45,
   "outputs": [],
   "source": [
    "Ravdess_df = pd.DataFrame.from_dict(emotion_df)\n",
    "Ravdess_df.rename(columns={1 : \"Path\", 0 : \"Emotion\"}, inplace=True)"
   ],
   "metadata": {
    "collapsed": false,
    "pycharm": {
     "name": "#%%\n"
    }
   }
  },
  {
   "cell_type": "code",
   "execution_count": 46,
   "outputs": [
    {
     "data": {
      "text/plain": "   Emotion                                               Path\n0  neutral  /home/kenterbery/projects/speech_emotion_recog...\n1  neutral  /home/kenterbery/projects/speech_emotion_recog...\n2  disgust  /home/kenterbery/projects/speech_emotion_recog...\n3  disgust  /home/kenterbery/projects/speech_emotion_recog...\n4  disgust  /home/kenterbery/projects/speech_emotion_recog...",
      "text/html": "<div>\n<style scoped>\n    .dataframe tbody tr th:only-of-type {\n        vertical-align: middle;\n    }\n\n    .dataframe tbody tr th {\n        vertical-align: top;\n    }\n\n    .dataframe thead th {\n        text-align: right;\n    }\n</style>\n<table border=\"1\" class=\"dataframe\">\n  <thead>\n    <tr style=\"text-align: right;\">\n      <th></th>\n      <th>Emotion</th>\n      <th>Path</th>\n    </tr>\n  </thead>\n  <tbody>\n    <tr>\n      <th>0</th>\n      <td>neutral</td>\n      <td>/home/kenterbery/projects/speech_emotion_recog...</td>\n    </tr>\n    <tr>\n      <th>1</th>\n      <td>neutral</td>\n      <td>/home/kenterbery/projects/speech_emotion_recog...</td>\n    </tr>\n    <tr>\n      <th>2</th>\n      <td>disgust</td>\n      <td>/home/kenterbery/projects/speech_emotion_recog...</td>\n    </tr>\n    <tr>\n      <th>3</th>\n      <td>disgust</td>\n      <td>/home/kenterbery/projects/speech_emotion_recog...</td>\n    </tr>\n    <tr>\n      <th>4</th>\n      <td>disgust</td>\n      <td>/home/kenterbery/projects/speech_emotion_recog...</td>\n    </tr>\n  </tbody>\n</table>\n</div>"
     },
     "execution_count": 46,
     "metadata": {},
     "output_type": "execute_result"
    }
   ],
   "source": [
    "Ravdess_df.Emotion.replace({1:'neutral', 2:'neutral', 3:'happy', 4:'sad', 5:'angry', 6:'fear', 7:'disgust', 8:'surprise'}, inplace=True)\n",
    "Ravdess_df.head()"
   ],
   "metadata": {
    "collapsed": false,
    "pycharm": {
     "name": "#%%\n"
    }
   }
  },
  {
   "cell_type": "markdown",
   "source": [
    "Crema dataset\n"
   ],
   "metadata": {
    "collapsed": false
   }
  },
  {
   "cell_type": "code",
   "execution_count": 47,
   "outputs": [
    {
     "data": {
      "text/plain": "   Emotion                                               Path\n0  disgust  /home/kenterbery/projects/speech_emotion_recog...\n1    happy  /home/kenterbery/projects/speech_emotion_recog...\n2      sad  /home/kenterbery/projects/speech_emotion_recog...\n3    happy  /home/kenterbery/projects/speech_emotion_recog...\n4  neutral  /home/kenterbery/projects/speech_emotion_recog...",
      "text/html": "<div>\n<style scoped>\n    .dataframe tbody tr th:only-of-type {\n        vertical-align: middle;\n    }\n\n    .dataframe tbody tr th {\n        vertical-align: top;\n    }\n\n    .dataframe thead th {\n        text-align: right;\n    }\n</style>\n<table border=\"1\" class=\"dataframe\">\n  <thead>\n    <tr style=\"text-align: right;\">\n      <th></th>\n      <th>Emotion</th>\n      <th>Path</th>\n    </tr>\n  </thead>\n  <tbody>\n    <tr>\n      <th>0</th>\n      <td>disgust</td>\n      <td>/home/kenterbery/projects/speech_emotion_recog...</td>\n    </tr>\n    <tr>\n      <th>1</th>\n      <td>happy</td>\n      <td>/home/kenterbery/projects/speech_emotion_recog...</td>\n    </tr>\n    <tr>\n      <th>2</th>\n      <td>sad</td>\n      <td>/home/kenterbery/projects/speech_emotion_recog...</td>\n    </tr>\n    <tr>\n      <th>3</th>\n      <td>happy</td>\n      <td>/home/kenterbery/projects/speech_emotion_recog...</td>\n    </tr>\n    <tr>\n      <th>4</th>\n      <td>neutral</td>\n      <td>/home/kenterbery/projects/speech_emotion_recog...</td>\n    </tr>\n  </tbody>\n</table>\n</div>"
     },
     "execution_count": 47,
     "metadata": {},
     "output_type": "execute_result"
    }
   ],
   "source": [
    "emotion_df = []\n",
    "\n",
    "for wav in os.listdir(Crema):\n",
    "    info = wav.partition(\".wav\")[0].split(\"_\")\n",
    "    if info[2] == 'SAD':\n",
    "        emotion_df.append((\"sad\", Crema + wav))\n",
    "    elif info[2] == 'ANG':\n",
    "        emotion_df.append((\"angry\", Crema + wav))\n",
    "    elif info[2] == 'DIS':\n",
    "        emotion_df.append((\"disgust\", Crema + wav))\n",
    "    elif info[2] == 'FEA':\n",
    "        emotion_df.append((\"fear\", Crema + wav))\n",
    "    elif info[2] == 'HAP':\n",
    "        emotion_df.append((\"happy\", Crema + wav))\n",
    "    elif info[2] == 'NEU':\n",
    "        emotion_df.append((\"neutral\", Crema + wav))\n",
    "    else:\n",
    "        emotion_df.append((\"unknown\", Crema + wav))\n",
    "\n",
    "\n",
    "Crema_df = pd.DataFrame.from_dict(emotion_df)\n",
    "Crema_df.rename(columns={1 : \"Path\", 0 : \"Emotion\"}, inplace=True)\n",
    "\n",
    "Crema_df.head()"
   ],
   "metadata": {
    "collapsed": false,
    "pycharm": {
     "name": "#%%\n"
    }
   }
  },
  {
   "cell_type": "markdown",
   "source": [
    "TESS dataset"
   ],
   "metadata": {
    "collapsed": false
   }
  },
  {
   "cell_type": "code",
   "execution_count": 48,
   "outputs": [
    {
     "data": {
      "text/plain": "  Emotion                                               Path\n0     sad  /home/kenterbery/projects/speech_emotion_recog...\n1     sad  /home/kenterbery/projects/speech_emotion_recog...\n2     sad  /home/kenterbery/projects/speech_emotion_recog...\n3     sad  /home/kenterbery/projects/speech_emotion_recog...\n4     sad  /home/kenterbery/projects/speech_emotion_recog...",
      "text/html": "<div>\n<style scoped>\n    .dataframe tbody tr th:only-of-type {\n        vertical-align: middle;\n    }\n\n    .dataframe tbody tr th {\n        vertical-align: top;\n    }\n\n    .dataframe thead th {\n        text-align: right;\n    }\n</style>\n<table border=\"1\" class=\"dataframe\">\n  <thead>\n    <tr style=\"text-align: right;\">\n      <th></th>\n      <th>Emotion</th>\n      <th>Path</th>\n    </tr>\n  </thead>\n  <tbody>\n    <tr>\n      <th>0</th>\n      <td>sad</td>\n      <td>/home/kenterbery/projects/speech_emotion_recog...</td>\n    </tr>\n    <tr>\n      <th>1</th>\n      <td>sad</td>\n      <td>/home/kenterbery/projects/speech_emotion_recog...</td>\n    </tr>\n    <tr>\n      <th>2</th>\n      <td>sad</td>\n      <td>/home/kenterbery/projects/speech_emotion_recog...</td>\n    </tr>\n    <tr>\n      <th>3</th>\n      <td>sad</td>\n      <td>/home/kenterbery/projects/speech_emotion_recog...</td>\n    </tr>\n    <tr>\n      <th>4</th>\n      <td>sad</td>\n      <td>/home/kenterbery/projects/speech_emotion_recog...</td>\n    </tr>\n  </tbody>\n</table>\n</div>"
     },
     "execution_count": 48,
     "metadata": {},
     "output_type": "execute_result"
    }
   ],
   "source": [
    "tess_directory_list = os.listdir(Tess)\n",
    "\n",
    "emotion_df = []\n",
    "\n",
    "for dir in tess_directory_list:\n",
    "    for wav in os.listdir(Tess + dir):\n",
    "        info = wav.partition(\".wav\")[0].split(\"_\")\n",
    "        emo = info[2]\n",
    "        if emo == \"ps\":\n",
    "            emotion_df.append((\"surprise\", Tess + dir + \"/\" + wav))\n",
    "        else:\n",
    "            emotion_df.append((emo, Tess + dir + \"/\" + wav))\n",
    "\n",
    "\n",
    "Tess_df = pd.DataFrame.from_dict(emotion_df)\n",
    "Tess_df.rename(columns={1 : \"Path\", 0 : \"Emotion\"}, inplace=True)\n",
    "\n",
    "Tess_df.head()"
   ],
   "metadata": {
    "collapsed": false,
    "pycharm": {
     "name": "#%%\n"
    }
   }
  },
  {
   "cell_type": "code",
   "execution_count": 49,
   "outputs": [
    {
     "data": {
      "text/plain": "   Emotion                                               Path\n0      sad  /home/kenterbery/projects/speech_emotion_recog...\n1  neutral  /home/kenterbery/projects/speech_emotion_recog...\n2  disgust  /home/kenterbery/projects/speech_emotion_recog...\n3    angry  /home/kenterbery/projects/speech_emotion_recog...\n4  disgust  /home/kenterbery/projects/speech_emotion_recog...",
      "text/html": "<div>\n<style scoped>\n    .dataframe tbody tr th:only-of-type {\n        vertical-align: middle;\n    }\n\n    .dataframe tbody tr th {\n        vertical-align: top;\n    }\n\n    .dataframe thead th {\n        text-align: right;\n    }\n</style>\n<table border=\"1\" class=\"dataframe\">\n  <thead>\n    <tr style=\"text-align: right;\">\n      <th></th>\n      <th>Emotion</th>\n      <th>Path</th>\n    </tr>\n  </thead>\n  <tbody>\n    <tr>\n      <th>0</th>\n      <td>sad</td>\n      <td>/home/kenterbery/projects/speech_emotion_recog...</td>\n    </tr>\n    <tr>\n      <th>1</th>\n      <td>neutral</td>\n      <td>/home/kenterbery/projects/speech_emotion_recog...</td>\n    </tr>\n    <tr>\n      <th>2</th>\n      <td>disgust</td>\n      <td>/home/kenterbery/projects/speech_emotion_recog...</td>\n    </tr>\n    <tr>\n      <th>3</th>\n      <td>angry</td>\n      <td>/home/kenterbery/projects/speech_emotion_recog...</td>\n    </tr>\n    <tr>\n      <th>4</th>\n      <td>disgust</td>\n      <td>/home/kenterbery/projects/speech_emotion_recog...</td>\n    </tr>\n  </tbody>\n</table>\n</div>"
     },
     "execution_count": 49,
     "metadata": {},
     "output_type": "execute_result"
    }
   ],
   "source": [
    "savee_directiory_list = os.listdir(Savee)\n",
    "\n",
    "emotion_df = []\n",
    "\n",
    "for wav in savee_directiory_list:\n",
    "    info = wav.partition(\".wav\")[0].split(\"_\")[1].replace(r\"[0-9]\", \"\")\n",
    "    emotion = re.split(r\"[0-9]\", info)[0]\n",
    "    if emotion=='a':\n",
    "        emotion_df.append((\"angry\", Savee + wav))\n",
    "    elif emotion=='d':\n",
    "        emotion_df.append((\"disgust\", Savee + wav))\n",
    "    elif emotion=='f':\n",
    "        emotion_df.append((\"fear\", Savee + wav))\n",
    "    elif emotion=='h':\n",
    "        emotion_df.append((\"happy\", Savee + wav))\n",
    "    elif emotion=='n':\n",
    "        emotion_df.append((\"neutral\", Savee + wav))\n",
    "    elif emotion=='sa':\n",
    "        emotion_df.append((\"sad\", Savee + wav))\n",
    "    else:\n",
    "        emotion_df.append((\"surprise\", Savee + wav))\n",
    "\n",
    "\n",
    "Savee_df = pd.DataFrame.from_dict(emotion_df)\n",
    "Savee_df.rename(columns={1 : \"Path\", 0 : \"Emotion\"}, inplace=True)\n",
    "\n",
    "Savee_df.head()"
   ],
   "metadata": {
    "collapsed": false,
    "pycharm": {
     "name": "#%%\n"
    }
   }
  },
  {
   "cell_type": "code",
   "execution_count": 50,
   "outputs": [
    {
     "data": {
      "text/plain": "(12162, 2)"
     },
     "execution_count": 50,
     "metadata": {},
     "output_type": "execute_result"
    }
   ],
   "source": [
    "df = pd.concat([Ravdess_df, Crema_df, Tess_df, Savee_df], axis=0)\n",
    "df.shape"
   ],
   "metadata": {
    "collapsed": false,
    "pycharm": {
     "name": "#%%\n"
    }
   }
  },
  {
   "cell_type": "code",
   "execution_count": 51,
   "outputs": [
    {
     "data": {
      "text/plain": "   Emotion                                               Path\n0  neutral  /home/kenterbery/projects/speech_emotion_recog...\n1  neutral  /home/kenterbery/projects/speech_emotion_recog...\n2  disgust  /home/kenterbery/projects/speech_emotion_recog...\n3  disgust  /home/kenterbery/projects/speech_emotion_recog...\n4  disgust  /home/kenterbery/projects/speech_emotion_recog...",
      "text/html": "<div>\n<style scoped>\n    .dataframe tbody tr th:only-of-type {\n        vertical-align: middle;\n    }\n\n    .dataframe tbody tr th {\n        vertical-align: top;\n    }\n\n    .dataframe thead th {\n        text-align: right;\n    }\n</style>\n<table border=\"1\" class=\"dataframe\">\n  <thead>\n    <tr style=\"text-align: right;\">\n      <th></th>\n      <th>Emotion</th>\n      <th>Path</th>\n    </tr>\n  </thead>\n  <tbody>\n    <tr>\n      <th>0</th>\n      <td>neutral</td>\n      <td>/home/kenterbery/projects/speech_emotion_recog...</td>\n    </tr>\n    <tr>\n      <th>1</th>\n      <td>neutral</td>\n      <td>/home/kenterbery/projects/speech_emotion_recog...</td>\n    </tr>\n    <tr>\n      <th>2</th>\n      <td>disgust</td>\n      <td>/home/kenterbery/projects/speech_emotion_recog...</td>\n    </tr>\n    <tr>\n      <th>3</th>\n      <td>disgust</td>\n      <td>/home/kenterbery/projects/speech_emotion_recog...</td>\n    </tr>\n    <tr>\n      <th>4</th>\n      <td>disgust</td>\n      <td>/home/kenterbery/projects/speech_emotion_recog...</td>\n    </tr>\n  </tbody>\n</table>\n</div>"
     },
     "execution_count": 51,
     "metadata": {},
     "output_type": "execute_result"
    }
   ],
   "source": [
    "df.head()"
   ],
   "metadata": {
    "collapsed": false,
    "pycharm": {
     "name": "#%%\n"
    }
   }
  },
  {
   "cell_type": "code",
   "execution_count": 52,
   "outputs": [],
   "source": [
    "%matplotlib inline\n",
    "\n",
    "plt.style.use(\"ggplot\")"
   ],
   "metadata": {
    "collapsed": false,
    "pycharm": {
     "name": "#%%\n"
    }
   }
  },
  {
   "cell_type": "code",
   "execution_count": 53,
   "outputs": [
    {
     "data": {
      "text/plain": "<Figure size 432x288 with 1 Axes>",
      "image/png": "[encoded data removed]"
     },
     "metadata": {},
     "output_type": "display_data"
    }
   ],
   "source": [
    "plt.title(\"Count of emotions:\")\n",
    "sns.countplot(x=df[\"Emotion\"])\n",
    "sns.despine(top=True, right=True, left=False, bottom=False)"
   ],
   "metadata": {
    "collapsed": false,
    "pycharm": {
     "name": "#%%\n"
    }
   }
  },
  {
   "cell_type": "code",
   "execution_count": 54,
   "outputs": [
    {
     "data": {
      "text/plain": "   Emotion                                               Path\n0  neutral  /home/kenterbery/projects/speech_emotion_recog...\n1  neutral  /home/kenterbery/projects/speech_emotion_recog...\n2  disgust  /home/kenterbery/projects/speech_emotion_recog...\n3  disgust  /home/kenterbery/projects/speech_emotion_recog...\n4  disgust  /home/kenterbery/projects/speech_emotion_recog...\n5    angry  /home/kenterbery/projects/speech_emotion_recog...\n6    angry  /home/kenterbery/projects/speech_emotion_recog...\n7    happy  /home/kenterbery/projects/speech_emotion_recog...\n8     fear  /home/kenterbery/projects/speech_emotion_recog...\n9    angry  /home/kenterbery/projects/speech_emotion_recog...",
      "text/html": "<div>\n<style scoped>\n    .dataframe tbody tr th:only-of-type {\n        vertical-align: middle;\n    }\n\n    .dataframe tbody tr th {\n        vertical-align: top;\n    }\n\n    .dataframe thead th {\n        text-align: right;\n    }\n</style>\n<table border=\"1\" class=\"dataframe\">\n  <thead>\n    <tr style=\"text-align: right;\">\n      <th></th>\n      <th>Emotion</th>\n      <th>Path</th>\n    </tr>\n  </thead>\n  <tbody>\n    <tr>\n      <th>0</th>\n      <td>neutral</td>\n      <td>/home/kenterbery/projects/speech_emotion_recog...</td>\n    </tr>\n    <tr>\n      <th>1</th>\n      <td>neutral</td>\n      <td>/home/kenterbery/projects/speech_emotion_recog...</td>\n    </tr>\n    <tr>\n      <th>2</th>\n      <td>disgust</td>\n      <td>/home/kenterbery/projects/speech_emotion_recog...</td>\n    </tr>\n    <tr>\n      <th>3</th>\n      <td>disgust</td>\n      <td>/home/kenterbery/projects/speech_emotion_recog...</td>\n    </tr>\n    <tr>\n      <th>4</th>\n      <td>disgust</td>\n      <td>/home/kenterbery/projects/speech_emotion_recog...</td>\n    </tr>\n    <tr>\n      <th>5</th>\n      <td>angry</td>\n      <td>/home/kenterbery/projects/speech_emotion_recog...</td>\n    </tr>\n    <tr>\n      <th>6</th>\n      <td>angry</td>\n      <td>/home/kenterbery/projects/speech_emotion_recog...</td>\n    </tr>\n    <tr>\n      <th>7</th>\n      <td>happy</td>\n      <td>/home/kenterbery/projects/speech_emotion_recog...</td>\n    </tr>\n    <tr>\n      <th>8</th>\n      <td>fear</td>\n      <td>/home/kenterbery/projects/speech_emotion_recog...</td>\n    </tr>\n    <tr>\n      <th>9</th>\n      <td>angry</td>\n      <td>/home/kenterbery/projects/speech_emotion_recog...</td>\n    </tr>\n  </tbody>\n</table>\n</div>"
     },
     "execution_count": 54,
     "metadata": {},
     "output_type": "execute_result"
    }
   ],
   "source": [
    "df.head(10)"
   ],
   "metadata": {
    "collapsed": false,
    "pycharm": {
     "name": "#%%\n"
    }
   }
  },
  {
   "cell_type": "code",
   "execution_count": 78,
   "outputs": [],
   "source": [
    "def create_spectrogram_plot(data, output_path):\n",
    "    # X = librosa.stft(data)\n",
    "    # Xdb = librosa.amplitude_to_db(abs(X), ref=np.max)\n",
    "\n",
    "    # For plotting headlessly\n",
    "    from matplotlib.backends.backend_agg import FigureCanvasAgg as FigureCanvas\n",
    "    # fig = plt.Figure()\n",
    "    # canvas = FigureCanvas(fig)\n",
    "    # ax = fig.add_subplot(111)\n",
    "    # librosa.display.specshow(Xdb, cmap=\"gray_r\")\n",
    "    # fig.savefig(output_path)\n",
    "\n",
    "    fig = plt.Figure()\n",
    "    # canvas = FigureCanvas(fig)\n",
    "    ax = fig.add_subplot(111)\n",
    "    p = librosa.display.specshow(Xdb, ax=ax, cmap=\"magma\",)\n",
    "    fig.savefig(output_path,  bbox_inches='tight', pad_inches=0)\n",
    "#\n",
    "#\n",
    "def create_spectrogram(data, sr):\n",
    "    X = librosa.stft(data)\n",
    "    Xdb = librosa.amplitude_to_db(abs(X), ref=np.max)\n",
    "\n",
    "    return Xdb\n",
    "\n",
    "def get_mel_spectrogram(data, sr):\n",
    "    melspec = librosa.feature.melspectrogram(data, sr=sr, n_mels=128)\n",
    "    melspec = librosa.power_to_db(melspec).astype(np.float32)\n",
    "\n",
    "    return melspec"
   ],
   "metadata": {
    "collapsed": false,
    "pycharm": {
     "name": "#%%\n"
    }
   }
  },
  {
   "cell_type": "code",
   "execution_count": null,
   "outputs": [],
   "source": [
    "def fill_to_same_shape(mel):\n",
    "    t = np.pad(mel, ((0,0),(0,3)), mode='constant', constant_values=-99)\n",
    "    librosa.display.specshow(t, x_axis=\"time\", y_axis=\"mel\", sr=sample_rate, cmap=\"magma\")\n",
    "    t"
   ],
   "metadata": {
    "collapsed": false,
    "pycharm": {
     "name": "#%%\n"
    }
   }
  },
  {
   "cell_type": "code",
   "execution_count": 80,
   "outputs": [
    {
     "name": "stdout",
     "output_type": "stream",
     "text": [
      "Start processing...\n"
     ]
    },
    {
     "ename": "KeyboardInterrupt",
     "evalue": "",
     "output_type": "error",
     "traceback": [
      "\u001B[0;31m---------------------------------------------------------------------------\u001B[0m",
      "\u001B[0;31mKeyboardInterrupt\u001B[0m                         Traceback (most recent call last)",
      "\u001B[0;32m<ipython-input-80-cbf5d73158d1>\u001B[0m in \u001B[0;36m<module>\u001B[0;34m\u001B[0m\n\u001B[1;32m      7\u001B[0m     \u001B[0memotion\u001B[0m \u001B[0;34m=\u001B[0m \u001B[0mdf\u001B[0m\u001B[0;34m.\u001B[0m\u001B[0mEmotion\u001B[0m\u001B[0;34m.\u001B[0m\u001B[0miloc\u001B[0m\u001B[0;34m[\u001B[0m\u001B[0mi\u001B[0m\u001B[0;34m]\u001B[0m\u001B[0;34m\u001B[0m\u001B[0;34m\u001B[0m\u001B[0m\n\u001B[1;32m      8\u001B[0m \u001B[0;34m\u001B[0m\u001B[0m\n\u001B[0;32m----> 9\u001B[0;31m     \u001B[0mdata\u001B[0m\u001B[0;34m,\u001B[0m \u001B[0msr\u001B[0m \u001B[0;34m=\u001B[0m \u001B[0mlibrosa\u001B[0m\u001B[0;34m.\u001B[0m\u001B[0mload\u001B[0m\u001B[0;34m(\u001B[0m\u001B[0mpath\u001B[0m\u001B[0;34m,\u001B[0m \u001B[0mduration\u001B[0m\u001B[0;34m=\u001B[0m\u001B[0;36m2.5\u001B[0m\u001B[0;34m,\u001B[0m \u001B[0moffset\u001B[0m\u001B[0;34m=\u001B[0m\u001B[0;36m0.6\u001B[0m\u001B[0;34m)\u001B[0m\u001B[0;34m\u001B[0m\u001B[0;34m\u001B[0m\u001B[0m\n\u001B[0m\u001B[1;32m     10\u001B[0m     \u001B[0mmel_spec\u001B[0m \u001B[0;34m=\u001B[0m \u001B[0mget_mel_spectrogram\u001B[0m\u001B[0;34m(\u001B[0m\u001B[0mdata\u001B[0m\u001B[0;34m,\u001B[0m \u001B[0msr\u001B[0m\u001B[0;34m)\u001B[0m\u001B[0;34m\u001B[0m\u001B[0;34m\u001B[0m\u001B[0m\n\u001B[1;32m     11\u001B[0m     \u001B[0mmel_df\u001B[0m\u001B[0;34m.\u001B[0m\u001B[0mappend\u001B[0m\u001B[0;34m(\u001B[0m\u001B[0;34m(\u001B[0m\u001B[0;34m\"emotion\"\u001B[0m\u001B[0;34m,\u001B[0m \u001B[0mmel_spec\u001B[0m\u001B[0;34m)\u001B[0m\u001B[0;34m)\u001B[0m\u001B[0;34m\u001B[0m\u001B[0;34m\u001B[0m\u001B[0m\n",
      "\u001B[0;32m~/anaconda3/envs/speech_emotion_recognition/lib/python3.7/site-packages/librosa/core/audio.py\u001B[0m in \u001B[0;36mload\u001B[0;34m(path, sr, mono, offset, duration, dtype, res_type)\u001B[0m\n\u001B[1;32m    170\u001B[0m \u001B[0;34m\u001B[0m\u001B[0m\n\u001B[1;32m    171\u001B[0m     \u001B[0;32mif\u001B[0m \u001B[0msr\u001B[0m \u001B[0;32mis\u001B[0m \u001B[0;32mnot\u001B[0m \u001B[0;32mNone\u001B[0m\u001B[0;34m:\u001B[0m\u001B[0;34m\u001B[0m\u001B[0;34m\u001B[0m\u001B[0m\n\u001B[0;32m--> 172\u001B[0;31m         \u001B[0my\u001B[0m \u001B[0;34m=\u001B[0m \u001B[0mresample\u001B[0m\u001B[0;34m(\u001B[0m\u001B[0my\u001B[0m\u001B[0;34m,\u001B[0m \u001B[0msr_native\u001B[0m\u001B[0;34m,\u001B[0m \u001B[0msr\u001B[0m\u001B[0;34m,\u001B[0m \u001B[0mres_type\u001B[0m\u001B[0;34m=\u001B[0m\u001B[0mres_type\u001B[0m\u001B[0;34m)\u001B[0m\u001B[0;34m\u001B[0m\u001B[0;34m\u001B[0m\u001B[0m\n\u001B[0m\u001B[1;32m    173\u001B[0m \u001B[0;34m\u001B[0m\u001B[0m\n\u001B[1;32m    174\u001B[0m     \u001B[0;32melse\u001B[0m\u001B[0;34m:\u001B[0m\u001B[0;34m\u001B[0m\u001B[0;34m\u001B[0m\u001B[0m\n",
      "\u001B[0;32m~/anaconda3/envs/speech_emotion_recognition/lib/python3.7/site-packages/librosa/core/audio.py\u001B[0m in \u001B[0;36mresample\u001B[0;34m(y, orig_sr, target_sr, res_type, fix, scale, **kwargs)\u001B[0m\n\u001B[1;32m    582\u001B[0m         \u001B[0my_hat\u001B[0m \u001B[0;34m=\u001B[0m \u001B[0msamplerate\u001B[0m\u001B[0;34m.\u001B[0m\u001B[0mresample\u001B[0m\u001B[0;34m(\u001B[0m\u001B[0my\u001B[0m\u001B[0;34m.\u001B[0m\u001B[0mT\u001B[0m\u001B[0;34m,\u001B[0m \u001B[0mratio\u001B[0m\u001B[0;34m,\u001B[0m \u001B[0mconverter_type\u001B[0m\u001B[0;34m=\u001B[0m\u001B[0mres_type\u001B[0m\u001B[0;34m)\u001B[0m\u001B[0;34m.\u001B[0m\u001B[0mT\u001B[0m\u001B[0;34m\u001B[0m\u001B[0;34m\u001B[0m\u001B[0m\n\u001B[1;32m    583\u001B[0m     \u001B[0;32melse\u001B[0m\u001B[0;34m:\u001B[0m\u001B[0;34m\u001B[0m\u001B[0;34m\u001B[0m\u001B[0m\n\u001B[0;32m--> 584\u001B[0;31m         \u001B[0my_hat\u001B[0m \u001B[0;34m=\u001B[0m \u001B[0mresampy\u001B[0m\u001B[0;34m.\u001B[0m\u001B[0mresample\u001B[0m\u001B[0;34m(\u001B[0m\u001B[0my\u001B[0m\u001B[0;34m,\u001B[0m \u001B[0morig_sr\u001B[0m\u001B[0;34m,\u001B[0m \u001B[0mtarget_sr\u001B[0m\u001B[0;34m,\u001B[0m \u001B[0mfilter\u001B[0m\u001B[0;34m=\u001B[0m\u001B[0mres_type\u001B[0m\u001B[0;34m,\u001B[0m \u001B[0maxis\u001B[0m\u001B[0;34m=\u001B[0m\u001B[0;34m-\u001B[0m\u001B[0;36m1\u001B[0m\u001B[0;34m)\u001B[0m\u001B[0;34m\u001B[0m\u001B[0;34m\u001B[0m\u001B[0m\n\u001B[0m\u001B[1;32m    585\u001B[0m \u001B[0;34m\u001B[0m\u001B[0m\n\u001B[1;32m    586\u001B[0m     \u001B[0;32mif\u001B[0m \u001B[0mfix\u001B[0m\u001B[0;34m:\u001B[0m\u001B[0;34m\u001B[0m\u001B[0;34m\u001B[0m\u001B[0m\n",
      "\u001B[0;32m~/anaconda3/envs/speech_emotion_recognition/lib/python3.7/site-packages/resampy/core.py\u001B[0m in \u001B[0;36mresample\u001B[0;34m(x, sr_orig, sr_new, axis, filter, **kwargs)\u001B[0m\n\u001B[1;32m    118\u001B[0m     \u001B[0mx_2d\u001B[0m \u001B[0;34m=\u001B[0m \u001B[0mx\u001B[0m\u001B[0;34m.\u001B[0m\u001B[0mswapaxes\u001B[0m\u001B[0;34m(\u001B[0m\u001B[0;36m0\u001B[0m\u001B[0;34m,\u001B[0m \u001B[0maxis\u001B[0m\u001B[0;34m)\u001B[0m\u001B[0;34m.\u001B[0m\u001B[0mreshape\u001B[0m\u001B[0;34m(\u001B[0m\u001B[0;34m(\u001B[0m\u001B[0mx\u001B[0m\u001B[0;34m.\u001B[0m\u001B[0mshape\u001B[0m\u001B[0;34m[\u001B[0m\u001B[0maxis\u001B[0m\u001B[0;34m]\u001B[0m\u001B[0;34m,\u001B[0m \u001B[0;34m-\u001B[0m\u001B[0;36m1\u001B[0m\u001B[0;34m)\u001B[0m\u001B[0;34m)\u001B[0m\u001B[0;34m\u001B[0m\u001B[0;34m\u001B[0m\u001B[0m\n\u001B[1;32m    119\u001B[0m     \u001B[0my_2d\u001B[0m \u001B[0;34m=\u001B[0m \u001B[0my\u001B[0m\u001B[0;34m.\u001B[0m\u001B[0mswapaxes\u001B[0m\u001B[0;34m(\u001B[0m\u001B[0;36m0\u001B[0m\u001B[0;34m,\u001B[0m \u001B[0maxis\u001B[0m\u001B[0;34m)\u001B[0m\u001B[0;34m.\u001B[0m\u001B[0mreshape\u001B[0m\u001B[0;34m(\u001B[0m\u001B[0;34m(\u001B[0m\u001B[0my\u001B[0m\u001B[0;34m.\u001B[0m\u001B[0mshape\u001B[0m\u001B[0;34m[\u001B[0m\u001B[0maxis\u001B[0m\u001B[0;34m]\u001B[0m\u001B[0;34m,\u001B[0m \u001B[0;34m-\u001B[0m\u001B[0;36m1\u001B[0m\u001B[0;34m)\u001B[0m\u001B[0;34m)\u001B[0m\u001B[0;34m\u001B[0m\u001B[0;34m\u001B[0m\u001B[0m\n\u001B[0;32m--> 120\u001B[0;31m     \u001B[0mresample_f\u001B[0m\u001B[0;34m(\u001B[0m\u001B[0mx_2d\u001B[0m\u001B[0;34m,\u001B[0m \u001B[0my_2d\u001B[0m\u001B[0;34m,\u001B[0m \u001B[0msample_ratio\u001B[0m\u001B[0;34m,\u001B[0m \u001B[0minterp_win\u001B[0m\u001B[0;34m,\u001B[0m \u001B[0minterp_delta\u001B[0m\u001B[0;34m,\u001B[0m \u001B[0mprecision\u001B[0m\u001B[0;34m)\u001B[0m\u001B[0;34m\u001B[0m\u001B[0;34m\u001B[0m\u001B[0m\n\u001B[0m\u001B[1;32m    121\u001B[0m \u001B[0;34m\u001B[0m\u001B[0m\n\u001B[1;32m    122\u001B[0m     \u001B[0;32mreturn\u001B[0m \u001B[0my\u001B[0m\u001B[0;34m\u001B[0m\u001B[0;34m\u001B[0m\u001B[0m\n",
      "\u001B[0;31mKeyboardInterrupt\u001B[0m: "
     ]
    }
   ],
   "source": [
    "mel_df = []\n",
    "\n",
    "print(\"Start processing...\")\n",
    "\n",
    "for i in range(df.shape[0]):\n",
    "    path = df.Path.iloc[i]\n",
    "    emotion = df.Emotion.iloc[i]\n",
    "\n",
    "    data, sr = librosa.load(path, duration=2.5, offset=0.6)\n",
    "    mel_spec = get_mel_spectrogram(data, sr)\n",
    "    mel_df.append((\"emotion\", mel_spec))\n",
    "\n",
    "    if i+1 % 500 == 0:\n",
    "        print(f\"{i} samples has been processed...\")\n",
    "\n",
    "print(\"Done.\")\n"
   ],
   "metadata": {
    "collapsed": false,
    "pycharm": {
     "name": "#%%\n"
    }
   }
  },
  {
   "cell_type": "code",
   "execution_count": null,
   "outputs": [],
   "source": [],
   "metadata": {
    "collapsed": false,
    "pycharm": {
     "name": "#%%\n"
    }
   }
  }
 ],
 "metadata": {
  "kernelspec": {
   "display_name": "Python 3",
   "language": "python",
   "name": "python3"
  },
  "language_info": {
   "codemirror_mode": {
    "name": "ipython",
    "version": 2
   },
   "file_extension": ".py",
   "mimetype": "text/x-python",
   "name": "python",
   "nbconvert_exporter": "python",
   "pygments_lexer": "ipython2",
   "version": "2.7.6"
  }
 },
 "nbformat": 4,
 "nbformat_minor": 0
}