{
 "nbformat": 4,
 "nbformat_minor": 0,
 "metadata": {
  "kernelspec": {
   "display_name": "Python 3",
   "language": "python",
   "name": "python3"
  },
  "language_info": {
   "codemirror_mode": {
    "name": "ipython",
    "version": 3
   },
   "file_extension": ".py",
   "mimetype": "text/x-python",
   "name": "python",
   "nbconvert_exporter": "python",
   "pygments_lexer": "ipython3",
   "version": "3.8.5"
  },
  "colab": {
   "name": "img_estimator.ipynb",
   "provenance": []
  },
  "accelerator": "GPU"
 },
 "cells": [
  {
   "cell_type": "markdown",
   "source": [
    "# Image etimator experiment\n",
    "\n",
    "Here is an image estimator - experiment for speech emotion recognition using generated spectrograms.\n",
    "I used 4 preparated datasets (*Ravee*, *Crema*, *Tess* and *Savee*) for generating spectrograms with 7 different emotions.\n",
    "\n",
    "After that I needed to save that spectrograms as .png and distribute them to different dirs.\n",
    "\n",
    "Then I created a covolutional neural network which recognize emotions by spectrograms.\n",
    "\n",
    "Here we go!"
   ],
   "metadata": {
    "collapsed": false,
    "pycharm": {
     "name": "#%% md\n"
    }
   }
  },
  {
   "cell_type": "markdown",
   "source": [
    "## Importing libraries"
   ],
   "metadata": {
    "collapsed": false,
    "pycharm": {
     "name": "#%% md\n"
    }
   }
  },
  {
   "cell_type": "code",
   "metadata": {
    "id": "no_OlYUNbp-S"
   },
   "source": [
    "import numpy as np # linear algebra\n",
    "import pandas as pd # data processing\n",
    "import matplotlib.pyplot as plt #plotting\n",
    "import seaborn as sns\n",
    "from keras.optimizers import Adam\n",
    "from keras.models import Sequential, load_model\n",
    "from keras.layers import Dense, Conv2D, MaxPool2D , Flatten, GlobalAveragePooling2D, Dropout, BatchNormalization\n",
    "from keras.preprocessing.image import ImageDataGenerator\n",
    "from keras.callbacks import EarlyStopping, ReduceLROnPlateau\n",
    "from tensorflow.keras.applications import VGG16\n",
    "import os\n",
    "\n",
    "%matplotlib inline"
   ],
   "execution_count": null,
   "outputs": []
  },
  {
   "cell_type": "code",
   "metadata": {
    "pycharm": {
     "name": "#%%\n"
    },
    "id": "7ENRk3jybp-e"
   },
   "source": [
    "def fill_test_dir(input_path, output_path, n_test_samples=1022):\n",
    "    \"\"\"Split dataset on train/test parts\"\"\"\n",
    "    for emotion in os.listdir(input_path):\n",
    "        inp = os.path.join(input_path, emotion)\n",
    "        out = os.path.join(output_path, emotion)\n",
    "        if len(os.listdir(out)) == 0:\n",
    "            for ind, img in enumerate(os.listdir(inp)):\n",
    "                src_path_to_img = os.path.join(inp, img)\n",
    "                dst_path_to_img = os.path.join(out, img)\n",
    "                os.replace(src_path_to_img, dst_path_to_img)\n",
    "                if ind > n_test_samples:\n",
    "                    break\n",
    "    print(\"Test_spectrograms has been filled.\")"
   ],
   "execution_count": null,
   "outputs": []
  },
  {
   "cell_type": "code",
   "metadata": {
    "pycharm": {
     "name": "#%%\n"
    },
    "id": "xmAORMyKbp-f",
    "colab": {
     "base_uri": "https://localhost:8080/"
    },
    "outputId": "2dc3987e-5c26-4528-a2e3-afaaf5a35cc3"
   },
   "source": [
    "# Variables on Colab\n",
    "\n",
    "root_ds = \"/drive/MyDrive/Datasets/speech_emotion_recognition/\"\n",
    "\n",
    "path = \"/content/drive/MyDrive/Datasets/speech_emotion_recognition/spectrograms\"\n",
    "output_path = \"/content/drive/MyDrive/Datasets/speech_emotion_recognition/test_spectrograms\"\n",
    "\n",
    "fill_test_dir(path, output_path)"
   ],
   "execution_count": null,
   "outputs": [
    {
     "output_type": "stream",
     "text": [
      "Test_spectrograms has been filled.\n"
     ],
     "name": "stdout"
    }
   ]
  },
  {
   "cell_type": "markdown",
   "source": [
    "## Create generators\n",
    "\n",
    "### Let's create some *ImageDataGenerators* for our model:"
   ],
   "metadata": {
    "collapsed": false,
    "pycharm": {
     "name": "#%% md\n"
    }
   }
  },
  {
   "cell_type": "code",
   "metadata": {
    "pycharm": {
     "name": "#%%\n"
    },
    "id": "B7NvbJhtbp-s",
    "colab": {
     "base_uri": "https://localhost:8080/"
    },
    "outputId": "7a220031-15af-4106-e40b-84340ab44907"
   },
   "source": [
    "# We will also use *rescale* (normalization) right in generators for simplifying\n",
    "trdata = ImageDataGenerator(rescale=1./255, validation_split=0.2,)\n",
    "testdata = ImageDataGenerator(rescale=1./255)\n",
    "\n",
    "train_data = trdata.flow_from_directory(directory=path,\n",
    "                                        target_size=(256,256),\n",
    "                                        seed=42, \n",
    "                                        subset=\"training\",\n",
    "                                        batch_size=64)\n",
    "val_data = trdata.flow_from_directory(directory=path,\n",
    "                                      target_size=(256,256),\n",
    "                                      seed=42,\n",
    "                                      subset=\"validation\",\n",
    "                                      batch_size=64)\n",
    "test_data = testdata.flow_from_directory(directory=output_path,\n",
    "                                         target_size=(256,256),\n",
    "                                         batch_size=64)"
   ],
   "execution_count": null,
   "outputs": [
    {
     "output_type": "stream",
     "text": [
      "Found 23529 images belonging to 7 classes.\n",
      "Found 5881 images belonging to 7 classes.\n",
      "Found 7076 images belonging to 7 classes.\n"
     ],
     "name": "stdout"
    }
   ]
  },
  {
   "cell_type": "markdown",
   "source": [
    "## Training model"
   ],
   "metadata": {
    "collapsed": false,
    "pycharm": {
     "name": "#%% md\n"
    }
   }
  },
  {
   "cell_type": "code",
   "metadata": {
    "id": "WSz53ZZQnJl0"
   },
   "source": [
    "batch_size = 32\n",
    "EPOCHS = 30\n"
   ],
   "execution_count": null,
   "outputs": []
  },
  {
   "cell_type": "code",
   "metadata": {
    "id": "2Sf4dm3cp7WL"
   },
   "source": [
    "model = Sequential()\n",
    "\n",
    "model.add(Conv2D(64, kernel_size=(5,5), strides=(1,1), padding=\"same\", activation=\"relu\", input_shape=(256, 256, 3)))\n",
    "model.add((BatchNormalization()))\n",
    "model.add(Conv2D(64, kernel_size=(5,5), strides=(1,1), padding=\"same\", activation=\"relu\"))\n",
    "model.add((BatchNormalization()))\n",
    "model.add(MaxPool2D(pool_size=(2,2), padding=\"same\"))\n",
    "\n",
    "model.add(Conv2D(64, kernel_size=(5,5), strides=(1,1), padding=\"same\", activation=\"relu\"))\n",
    "model.add((BatchNormalization()))\n",
    "model.add(Conv2D(64, kernel_size=(5,5), strides=(1,1), padding=\"same\", activation=\"relu\"))\n",
    "model.add((BatchNormalization()))\n",
    "model.add(MaxPool2D(pool_size=(2,2), padding=\"same\"))\n",
    "\n",
    "model.add(Conv2D(128, kernel_size=(3,3), strides=(1,1), padding=\"same\", activation=\"relu\"))\n",
    "model.add((BatchNormalization()))\n",
    "model.add(Conv2D(128, kernel_size=(3,3), strides=(1,1), padding=\"same\", activation=\"relu\"))\n",
    "model.add((BatchNormalization()))\n",
    "model.add(MaxPool2D(pool_size=(2,2), padding=\"same\"))\n",
    "\n",
    "\n",
    "model.add(Conv2D(256, kernel_size=(3,3), strides=(1,1), padding=\"same\", activation=\"relu\"))\n",
    "model.add((BatchNormalization()))\n",
    "model.add(MaxPool2D(pool_size=(2,2), padding=\"same\"))\n",
    "\n",
    "model.add(Flatten())\n",
    "model.add(Dense(512, activation=\"relu\"))\n",
    "model.add((BatchNormalization()))\n",
    "model.add(Dense(7, activation=\"softmax\"))"
   ],
   "execution_count": null,
   "outputs": []
  },
  {
   "cell_type": "code",
   "metadata": {
    "id": "VquV4fOOnquj"
   },
   "source": [
    "opt = Adam(lr=0.001)\n",
    "model.compile(optimizer=opt, loss=\"categorical_crossentropy\", metrics=['accuracy'])"
   ],
   "execution_count": null,
   "outputs": []
  },
  {
   "cell_type": "code",
   "metadata": {
    "colab": {
     "base_uri": "https://localhost:8080/"
    },
    "id": "BfuaPQbpnwov",
    "outputId": "2c02ded1-8a81-4407-e574-9f41943c55a3"
   },
   "source": [
    "model.summary()"
   ],
   "execution_count": null,
   "outputs": [
    {
     "output_type": "stream",
     "text": [
      "Model: \"sequential_1\"\n",
      "_________________________________________________________________\n",
      "Layer (type)                 Output Shape              Param #   \n",
      "=================================================================\n",
      "conv2d_7 (Conv2D)            (None, 256, 256, 64)      4864      \n",
      "_________________________________________________________________\n",
      "batch_normalization_8 (Batch (None, 256, 256, 64)      256       \n",
      "_________________________________________________________________\n",
      "conv2d_8 (Conv2D)            (None, 256, 256, 64)      102464    \n",
      "_________________________________________________________________\n",
      "batch_normalization_9 (Batch (None, 256, 256, 64)      256       \n",
      "_________________________________________________________________\n",
      "max_pooling2d_4 (MaxPooling2 (None, 128, 128, 64)      0         \n",
      "_________________________________________________________________\n",
      "conv2d_9 (Conv2D)            (None, 128, 128, 64)      102464    \n",
      "_________________________________________________________________\n",
      "batch_normalization_10 (Batc (None, 128, 128, 64)      256       \n",
      "_________________________________________________________________\n",
      "conv2d_10 (Conv2D)           (None, 128, 128, 64)      102464    \n",
      "_________________________________________________________________\n",
      "batch_normalization_11 (Batc (None, 128, 128, 64)      256       \n",
      "_________________________________________________________________\n",
      "max_pooling2d_5 (MaxPooling2 (None, 64, 64, 64)        0         \n",
      "_________________________________________________________________\n",
      "conv2d_11 (Conv2D)           (None, 64, 64, 128)       73856     \n",
      "_________________________________________________________________\n",
      "batch_normalization_12 (Batc (None, 64, 64, 128)       512       \n",
      "_________________________________________________________________\n",
      "conv2d_12 (Conv2D)           (None, 64, 64, 128)       147584    \n",
      "_________________________________________________________________\n",
      "batch_normalization_13 (Batc (None, 64, 64, 128)       512       \n",
      "_________________________________________________________________\n",
      "max_pooling2d_6 (MaxPooling2 (None, 32, 32, 128)       0         \n",
      "_________________________________________________________________\n",
      "conv2d_13 (Conv2D)           (None, 32, 32, 256)       295168    \n",
      "_________________________________________________________________\n",
      "batch_normalization_14 (Batc (None, 32, 32, 256)       1024      \n",
      "_________________________________________________________________\n",
      "max_pooling2d_7 (MaxPooling2 (None, 16, 16, 256)       0         \n",
      "_________________________________________________________________\n",
      "flatten_1 (Flatten)          (None, 65536)             0         \n",
      "_________________________________________________________________\n",
      "dense_2 (Dense)              (None, 512)               33554944  \n",
      "_________________________________________________________________\n",
      "batch_normalization_15 (Batc (None, 512)               2048      \n",
      "_________________________________________________________________\n",
      "dense_3 (Dense)              (None, 7)                 3591      \n",
      "=================================================================\n",
      "Total params: 34,392,519\n",
      "Trainable params: 34,389,959\n",
      "Non-trainable params: 2,560\n",
      "_________________________________________________________________\n"
     ],
     "name": "stdout"
    }
   ]
  },
  {
   "cell_type": "code",
   "metadata": {
    "id": "Siczv8a4oT4q"
   },
   "source": [
    "early = EarlyStopping(monitor=\"val_accuracy\", patience=5, restore_best_weights=True)\n",
    "reduce_lr = ReduceLROnPlateau(monitor=\"val_accuracy\", patience=3, factor=0.5)"
   ],
   "execution_count": null,
   "outputs": []
  },
  {
   "cell_type": "code",
   "execution_count": null,
   "outputs": [],
   "source": [
    "history = model.fit(train_data, validation_data=val_data,\n",
    "              batch_size=batch_size,\n",
    "              epochs=EPOCHS,\n",
    "              callbacks=[early, reduce_lr])"
   ],
   "metadata": {
    "collapsed": false,
    "pycharm": {
     "name": "#%%\n"
    }
   }
  },
  {
   "cell_type": "code",
   "metadata": {
    "id": "2Ne2hXFMJw5X"
   },
   "source": [
    "model.save('/content/drive/MyDrive/Datasets/speech_emotion_recognition/saved_model/my_model_with_BN.h5') "
   ],
   "execution_count": null,
   "outputs": []
  },
  {
   "cell_type": "code",
   "metadata": {
    "colab": {
     "base_uri": "https://localhost:8080/"
    },
    "id": "LwD6Y_bfK_BK",
    "outputId": "f15ed403-2477-47a4-afde-0fba005f5045"
   },
   "source": [
    "plt.plot(history.history['accuracy'])\n",
    "plt.plot(history.history['val_accuracy'])\n",
    "plt.title('model accuracy')\n",
    "plt.ylabel('accuracy')\n",
    "plt.xlabel('epoch')\n",
    "plt.legend(['train', 'test'], loc='upper left')\n",
    "plt.show()\n",
    "# summarize history for loss\n",
    "plt.plot(history.history['loss'])\n",
    "plt.plot(history.history['val_loss'])\n",
    "plt.title('model loss')\n",
    "plt.ylabel('loss')\n",
    "plt.xlabel('epoch')\n",
    "plt.legend(['train', 'test'], loc='upper left')\n",
    "plt.show()"
   ],
   "execution_count": null,
   "outputs": [
    {
     "output_type": "display_data",
     "data": {
      "image/png": "[encoded data removed]",
      "text/plain": [
       "<Figure size 432x288 with 1 Axes>"
      ]
     },
     "metadata": {
      "tags": [],
      "needs_background": "light"
     }
    },
    {
     "output_type": "display_data",
     "data": {
      "image/png": "[encoded data removed]",
      "text/plain": [
       "<Figure size 432x288 with 1 Axes>"
      ]
     },
     "metadata": {
      "tags": [],
      "needs_background": "light"
     }
    }
   ]
  },
  {
   "cell_type": "code",
   "metadata": {
    "id": "pnSyTN5tZWY6"
   },
   "source": [
    "model = load_model('/content/drive/MyDrive/Datasets/speech_emotion_recognition/saved_model/my_model.h5')"
   ],
   "execution_count": null,
   "outputs": []
  },
  {
   "cell_type": "code",
   "metadata": {
    "colab": {
     "base_uri": "https://localhost:8080/"
    },
    "id": "yd1w7OCE29KY",
    "outputId": "e71444f5-f7ba-4f34-e80f-e470d47e5db9"
   },
   "source": [
    "print(\"Evaluate on test data\")\n",
    "results = model.evaluate(test_data, batch_size=32)\n",
    "print(\"test loss, test acc:\", results)"
   ],
   "execution_count": null,
   "outputs": [
    {
     "output_type": "stream",
     "text": [
      "Evaluate on test data\n",
      "111/111 [==============================] - 2866s 26s/step - loss: 1.0354 - accuracy: 0.8168\n",
      "test loss, test acc: [1.035442590713501, 0.8168456554412842]\n"
     ],
     "name": "stdout"
    }
   ]
  },
  {
   "cell_type": "code",
   "metadata": {
    "id": "aCEsN7183Mk2"
   },
   "source": [
    ""
   ],
   "execution_count": null,
   "outputs": []
  }
 ]
}