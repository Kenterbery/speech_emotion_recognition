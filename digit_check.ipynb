{
 "cells": [
  {
   "cell_type": "markdown",
   "metadata": {
    "_cell_guid": "b1076dfc-b9ad-4769-8c92-a6c4dae69d19",
    "_uuid": "8f2839f25d086af736a60e9eeb907d3b93b6e0e5"
   },
   "source": [
    "# Intoduction\n",
    "\n",
    "This is a 5 layers Convolutional Neural Network with Batch Normalization, Dropouts and Callbacks for digits recognition. I built the model with well-knonw framework Keras. \n",
    "\n",
    "Firstly, I did quick exploratory data analysis, made normalization and prepared data for processing. \n",
    "\n",
    "Secondly, I dug into tuning hyperparameters of chosen model to improve accuracy. \n",
    "\n",
    "I achieved 99.545% of accuracy on the test set on Kaggle competition with this CNN. Computation was done with Kaggle notebook, because i don't have a GPU and with my CPU computations could be for 3-4 hours."
   ]
  },
  {
   "cell_type": "code",
   "execution_count": 6,
   "metadata": {},
   "outputs": [],
   "source": [
    "#Import general libraries\n",
    "\n",
    "import numpy as np # linear algebra\n",
    "import pandas as pd # data processing \n",
    "import matplotlib.pyplot as plt #plotting\n",
    "import seaborn as sns\n",
    "%matplotlib inline\n",
    "\n",
    "from sklearn.model_selection import train_test_split\n",
    "\n",
    "import tensorflow\n",
    "\n",
    "from keras import models\n",
    "from keras import layers\n",
    "from tensorflow.keras.utils import plot_model\n",
    "from keras_preprocessing.image import ImageDataGenerator\n",
    "from keras.callbacks import EarlyStopping, ReduceLROnPlateau"
   ]
  },
  {
   "cell_type": "markdown",
   "metadata": {},
   "source": [
    "## 1. EDA and Data preprocessing part"
   ]
  },
  {
   "cell_type": "markdown",
   "metadata": {},
   "source": [
    "### 1.1. Load data"
   ]
  },
  {
   "cell_type": "code",
   "execution_count": 8,
   "metadata": {
    "_cell_guid": "79c7e3d0-c299-4dcb-8224-4455121ee9b0",
    "_uuid": "d629ff2d2480ee46fbb7e2d37f6b5fab8052498a"
   },
   "outputs": [
    {
     "data": {
      "text/plain": [
       "(59649, 786)"
      ]
     },
     "execution_count": 8,
     "metadata": {},
     "output_type": "execute_result"
    }
   ],
   "source": [
    "train = pd.read_csv(\"Digit Recognizer/input/train.csv\")\n",
    "train.shape"
   ]
  },
  {
   "cell_type": "code",
   "execution_count": 9,
   "metadata": {},
   "outputs": [
    {
     "data": {
      "text/plain": [
       "(10351, 785)"
      ]
     },
     "execution_count": 9,
     "metadata": {},
     "output_type": "execute_result"
    }
   ],
   "source": [
    "test = pd.read_csv(\"Digit Recognizer/input/test.csv\")\n",
    "test.shape"
   ]
  },
  {
   "cell_type": "code",
   "execution_count": 10,
   "metadata": {
    "scrolled": false
   },
   "outputs": [
    {
     "data": {
      "text/html": [
       "<div>\n",
       "<style scoped>\n",
       "    .dataframe tbody tr th:only-of-type {\n",
       "        vertical-align: middle;\n",
       "    }\n",
       "\n",
       "    .dataframe tbody tr th {\n",
       "        vertical-align: top;\n",
       "    }\n",
       "\n",
       "    .dataframe thead th {\n",
       "        text-align: right;\n",
       "    }\n",
       "</style>\n",
       "<table border=\"1\" class=\"dataframe\">\n",
       "  <thead>\n",
       "    <tr style=\"text-align: right;\">\n",
       "      <th></th>\n",
       "      <th>Id</th>\n",
       "      <th>label</th>\n",
       "      <th>1x1</th>\n",
       "      <th>1x2</th>\n",
       "      <th>1x3</th>\n",
       "      <th>1x4</th>\n",
       "      <th>1x5</th>\n",
       "      <th>1x6</th>\n",
       "      <th>1x7</th>\n",
       "      <th>1x8</th>\n",
       "      <th>...</th>\n",
       "      <th>28x19</th>\n",
       "      <th>28x20</th>\n",
       "      <th>28x21</th>\n",
       "      <th>28x22</th>\n",
       "      <th>28x23</th>\n",
       "      <th>28x24</th>\n",
       "      <th>28x25</th>\n",
       "      <th>28x26</th>\n",
       "      <th>28x27</th>\n",
       "      <th>28x28</th>\n",
       "    </tr>\n",
       "  </thead>\n",
       "  <tbody>\n",
       "    <tr>\n",
       "      <th>0</th>\n",
       "      <td>0</td>\n",
       "      <td>5</td>\n",
       "      <td>0</td>\n",
       "      <td>0</td>\n",
       "      <td>0</td>\n",
       "      <td>0</td>\n",
       "      <td>0</td>\n",
       "      <td>0</td>\n",
       "      <td>0</td>\n",
       "      <td>0</td>\n",
       "      <td>...</td>\n",
       "      <td>0</td>\n",
       "      <td>0</td>\n",
       "      <td>0</td>\n",
       "      <td>0</td>\n",
       "      <td>0</td>\n",
       "      <td>0</td>\n",
       "      <td>0</td>\n",
       "      <td>0</td>\n",
       "      <td>0</td>\n",
       "      <td>0</td>\n",
       "    </tr>\n",
       "    <tr>\n",
       "      <th>1</th>\n",
       "      <td>1</td>\n",
       "      <td>0</td>\n",
       "      <td>0</td>\n",
       "      <td>0</td>\n",
       "      <td>0</td>\n",
       "      <td>0</td>\n",
       "      <td>0</td>\n",
       "      <td>0</td>\n",
       "      <td>0</td>\n",
       "      <td>0</td>\n",
       "      <td>...</td>\n",
       "      <td>0</td>\n",
       "      <td>0</td>\n",
       "      <td>0</td>\n",
       "      <td>0</td>\n",
       "      <td>0</td>\n",
       "      <td>0</td>\n",
       "      <td>0</td>\n",
       "      <td>0</td>\n",
       "      <td>0</td>\n",
       "      <td>0</td>\n",
       "    </tr>\n",
       "    <tr>\n",
       "      <th>2</th>\n",
       "      <td>2</td>\n",
       "      <td>4</td>\n",
       "      <td>0</td>\n",
       "      <td>0</td>\n",
       "      <td>0</td>\n",
       "      <td>0</td>\n",
       "      <td>0</td>\n",
       "      <td>0</td>\n",
       "      <td>0</td>\n",
       "      <td>0</td>\n",
       "      <td>...</td>\n",
       "      <td>0</td>\n",
       "      <td>0</td>\n",
       "      <td>0</td>\n",
       "      <td>0</td>\n",
       "      <td>0</td>\n",
       "      <td>0</td>\n",
       "      <td>0</td>\n",
       "      <td>0</td>\n",
       "      <td>0</td>\n",
       "      <td>0</td>\n",
       "    </tr>\n",
       "    <tr>\n",
       "      <th>3</th>\n",
       "      <td>3</td>\n",
       "      <td>1</td>\n",
       "      <td>0</td>\n",
       "      <td>0</td>\n",
       "      <td>0</td>\n",
       "      <td>0</td>\n",
       "      <td>0</td>\n",
       "      <td>0</td>\n",
       "      <td>0</td>\n",
       "      <td>0</td>\n",
       "      <td>...</td>\n",
       "      <td>0</td>\n",
       "      <td>0</td>\n",
       "      <td>0</td>\n",
       "      <td>0</td>\n",
       "      <td>0</td>\n",
       "      <td>0</td>\n",
       "      <td>0</td>\n",
       "      <td>0</td>\n",
       "      <td>0</td>\n",
       "      <td>0</td>\n",
       "    </tr>\n",
       "    <tr>\n",
       "      <th>4</th>\n",
       "      <td>4</td>\n",
       "      <td>9</td>\n",
       "      <td>0</td>\n",
       "      <td>0</td>\n",
       "      <td>0</td>\n",
       "      <td>0</td>\n",
       "      <td>0</td>\n",
       "      <td>0</td>\n",
       "      <td>0</td>\n",
       "      <td>0</td>\n",
       "      <td>...</td>\n",
       "      <td>0</td>\n",
       "      <td>0</td>\n",
       "      <td>0</td>\n",
       "      <td>0</td>\n",
       "      <td>0</td>\n",
       "      <td>0</td>\n",
       "      <td>0</td>\n",
       "      <td>0</td>\n",
       "      <td>0</td>\n",
       "      <td>0</td>\n",
       "    </tr>\n",
       "  </tbody>\n",
       "</table>\n",
       "<p>5 rows × 786 columns</p>\n",
       "</div>"
      ],
      "text/plain": [
       "   Id  label  1x1  1x2  1x3  1x4  1x5  1x6  1x7  1x8  ...  28x19  28x20  \\\n",
       "0   0      5    0    0    0    0    0    0    0    0  ...      0      0   \n",
       "1   1      0    0    0    0    0    0    0    0    0  ...      0      0   \n",
       "2   2      4    0    0    0    0    0    0    0    0  ...      0      0   \n",
       "3   3      1    0    0    0    0    0    0    0    0  ...      0      0   \n",
       "4   4      9    0    0    0    0    0    0    0    0  ...      0      0   \n",
       "\n",
       "   28x21  28x22  28x23  28x24  28x25  28x26  28x27  28x28  \n",
       "0      0      0      0      0      0      0      0      0  \n",
       "1      0      0      0      0      0      0      0      0  \n",
       "2      0      0      0      0      0      0      0      0  \n",
       "3      0      0      0      0      0      0      0      0  \n",
       "4      0      0      0      0      0      0      0      0  \n",
       "\n",
       "[5 rows x 786 columns]"
      ]
     },
     "execution_count": 10,
     "metadata": {},
     "output_type": "execute_result"
    }
   ],
   "source": [
    "train.head()"
   ]
  },
  {
   "cell_type": "markdown",
   "metadata": {},
   "source": [
    "#### Let's look through the dataset"
   ]
  },
  {
   "cell_type": "code",
   "execution_count": 11,
   "metadata": {
    "scrolled": false
   },
   "outputs": [
    {
     "data": {
      "text/html": [
       "<div>\n",
       "<style scoped>\n",
       "    .dataframe tbody tr th:only-of-type {\n",
       "        vertical-align: middle;\n",
       "    }\n",
       "\n",
       "    .dataframe tbody tr th {\n",
       "        vertical-align: top;\n",
       "    }\n",
       "\n",
       "    .dataframe thead th {\n",
       "        text-align: right;\n",
       "    }\n",
       "</style>\n",
       "<table border=\"1\" class=\"dataframe\">\n",
       "  <thead>\n",
       "    <tr style=\"text-align: right;\">\n",
       "      <th></th>\n",
       "      <th>Id</th>\n",
       "      <th>label</th>\n",
       "      <th>1x1</th>\n",
       "      <th>1x2</th>\n",
       "      <th>1x3</th>\n",
       "      <th>1x4</th>\n",
       "      <th>1x5</th>\n",
       "      <th>1x6</th>\n",
       "      <th>1x7</th>\n",
       "      <th>1x8</th>\n",
       "      <th>...</th>\n",
       "      <th>28x19</th>\n",
       "      <th>28x20</th>\n",
       "      <th>28x21</th>\n",
       "      <th>28x22</th>\n",
       "      <th>28x23</th>\n",
       "      <th>28x24</th>\n",
       "      <th>28x25</th>\n",
       "      <th>28x26</th>\n",
       "      <th>28x27</th>\n",
       "      <th>28x28</th>\n",
       "    </tr>\n",
       "  </thead>\n",
       "  <tbody>\n",
       "    <tr>\n",
       "      <th>0</th>\n",
       "      <td>0</td>\n",
       "      <td>5</td>\n",
       "      <td>0</td>\n",
       "      <td>0</td>\n",
       "      <td>0</td>\n",
       "      <td>0</td>\n",
       "      <td>0</td>\n",
       "      <td>0</td>\n",
       "      <td>0</td>\n",
       "      <td>0</td>\n",
       "      <td>...</td>\n",
       "      <td>0</td>\n",
       "      <td>0</td>\n",
       "      <td>0</td>\n",
       "      <td>0</td>\n",
       "      <td>0</td>\n",
       "      <td>0</td>\n",
       "      <td>0</td>\n",
       "      <td>0</td>\n",
       "      <td>0</td>\n",
       "      <td>0</td>\n",
       "    </tr>\n",
       "    <tr>\n",
       "      <th>1</th>\n",
       "      <td>1</td>\n",
       "      <td>0</td>\n",
       "      <td>0</td>\n",
       "      <td>0</td>\n",
       "      <td>0</td>\n",
       "      <td>0</td>\n",
       "      <td>0</td>\n",
       "      <td>0</td>\n",
       "      <td>0</td>\n",
       "      <td>0</td>\n",
       "      <td>...</td>\n",
       "      <td>0</td>\n",
       "      <td>0</td>\n",
       "      <td>0</td>\n",
       "      <td>0</td>\n",
       "      <td>0</td>\n",
       "      <td>0</td>\n",
       "      <td>0</td>\n",
       "      <td>0</td>\n",
       "      <td>0</td>\n",
       "      <td>0</td>\n",
       "    </tr>\n",
       "    <tr>\n",
       "      <th>2</th>\n",
       "      <td>2</td>\n",
       "      <td>4</td>\n",
       "      <td>0</td>\n",
       "      <td>0</td>\n",
       "      <td>0</td>\n",
       "      <td>0</td>\n",
       "      <td>0</td>\n",
       "      <td>0</td>\n",
       "      <td>0</td>\n",
       "      <td>0</td>\n",
       "      <td>...</td>\n",
       "      <td>0</td>\n",
       "      <td>0</td>\n",
       "      <td>0</td>\n",
       "      <td>0</td>\n",
       "      <td>0</td>\n",
       "      <td>0</td>\n",
       "      <td>0</td>\n",
       "      <td>0</td>\n",
       "      <td>0</td>\n",
       "      <td>0</td>\n",
       "    </tr>\n",
       "    <tr>\n",
       "      <th>3</th>\n",
       "      <td>3</td>\n",
       "      <td>1</td>\n",
       "      <td>0</td>\n",
       "      <td>0</td>\n",
       "      <td>0</td>\n",
       "      <td>0</td>\n",
       "      <td>0</td>\n",
       "      <td>0</td>\n",
       "      <td>0</td>\n",
       "      <td>0</td>\n",
       "      <td>...</td>\n",
       "      <td>0</td>\n",
       "      <td>0</td>\n",
       "      <td>0</td>\n",
       "      <td>0</td>\n",
       "      <td>0</td>\n",
       "      <td>0</td>\n",
       "      <td>0</td>\n",
       "      <td>0</td>\n",
       "      <td>0</td>\n",
       "      <td>0</td>\n",
       "    </tr>\n",
       "    <tr>\n",
       "      <th>4</th>\n",
       "      <td>4</td>\n",
       "      <td>9</td>\n",
       "      <td>0</td>\n",
       "      <td>0</td>\n",
       "      <td>0</td>\n",
       "      <td>0</td>\n",
       "      <td>0</td>\n",
       "      <td>0</td>\n",
       "      <td>0</td>\n",
       "      <td>0</td>\n",
       "      <td>...</td>\n",
       "      <td>0</td>\n",
       "      <td>0</td>\n",
       "      <td>0</td>\n",
       "      <td>0</td>\n",
       "      <td>0</td>\n",
       "      <td>0</td>\n",
       "      <td>0</td>\n",
       "      <td>0</td>\n",
       "      <td>0</td>\n",
       "      <td>0</td>\n",
       "    </tr>\n",
       "  </tbody>\n",
       "</table>\n",
       "<p>5 rows × 786 columns</p>\n",
       "</div>"
      ],
      "text/plain": [
       "   Id  label  1x1  1x2  1x3  1x4  1x5  1x6  1x7  1x8  ...  28x19  28x20  \\\n",
       "0   0      5    0    0    0    0    0    0    0    0  ...      0      0   \n",
       "1   1      0    0    0    0    0    0    0    0    0  ...      0      0   \n",
       "2   2      4    0    0    0    0    0    0    0    0  ...      0      0   \n",
       "3   3      1    0    0    0    0    0    0    0    0  ...      0      0   \n",
       "4   4      9    0    0    0    0    0    0    0    0  ...      0      0   \n",
       "\n",
       "   28x21  28x22  28x23  28x24  28x25  28x26  28x27  28x28  \n",
       "0      0      0      0      0      0      0      0      0  \n",
       "1      0      0      0      0      0      0      0      0  \n",
       "2      0      0      0      0      0      0      0      0  \n",
       "3      0      0      0      0      0      0      0      0  \n",
       "4      0      0      0      0      0      0      0      0  \n",
       "\n",
       "[5 rows x 786 columns]"
      ]
     },
     "execution_count": 11,
     "metadata": {},
     "output_type": "execute_result"
    },
    {
     "data": {
      "image/png": "[encoded data removed]",
      "text/plain": [
       "<Figure size 1440x1440 with 10 Axes>"
      ]
     },
     "metadata": {
      "needs_background": "light"
     },
     "output_type": "display_data"
    }
   ],
   "source": [
    "fig, axes = plt.subplots(1, 10, figsize=(20, 20))\n",
    "\n",
    "# Let's look to first 10 images on dataset\n",
    "images = train.drop([\"label\", \"Id\"], axis=1)[:10]\n",
    "labels = train[\"label\"][:10]\n",
    "images = np.array(images, dtype=\"float32\")\n",
    "for image, ax, label in zip(images, axes, labels):\n",
    "    # Shape of images is (28 , 28), there is 1 channel, so choose cmap \"grey\"\n",
    "    ax.imshow(image.reshape(28,28), cmap=plt.get_cmap('gray'))\n",
    "    ax.set_title(label)\n",
    "train.head()"
   ]
  },
  {
   "cell_type": "code",
   "execution_count": 12,
   "metadata": {
    "scrolled": false
   },
   "outputs": [
    {
     "data": {
      "text/html": [
       "<div>\n",
       "<style scoped>\n",
       "    .dataframe tbody tr th:only-of-type {\n",
       "        vertical-align: middle;\n",
       "    }\n",
       "\n",
       "    .dataframe tbody tr th {\n",
       "        vertical-align: top;\n",
       "    }\n",
       "\n",
       "    .dataframe thead th {\n",
       "        text-align: right;\n",
       "    }\n",
       "</style>\n",
       "<table border=\"1\" class=\"dataframe\">\n",
       "  <thead>\n",
       "    <tr style=\"text-align: right;\">\n",
       "      <th></th>\n",
       "      <th>Id</th>\n",
       "      <th>1x1</th>\n",
       "      <th>1x2</th>\n",
       "      <th>1x3</th>\n",
       "      <th>1x4</th>\n",
       "      <th>1x5</th>\n",
       "      <th>1x6</th>\n",
       "      <th>1x7</th>\n",
       "      <th>1x8</th>\n",
       "      <th>1x9</th>\n",
       "      <th>...</th>\n",
       "      <th>28x19</th>\n",
       "      <th>28x20</th>\n",
       "      <th>28x21</th>\n",
       "      <th>28x22</th>\n",
       "      <th>28x23</th>\n",
       "      <th>28x24</th>\n",
       "      <th>28x25</th>\n",
       "      <th>28x26</th>\n",
       "      <th>28x27</th>\n",
       "      <th>28x28</th>\n",
       "    </tr>\n",
       "  </thead>\n",
       "  <tbody>\n",
       "    <tr>\n",
       "      <th>0</th>\n",
       "      <td>10</td>\n",
       "      <td>0</td>\n",
       "      <td>0</td>\n",
       "      <td>0</td>\n",
       "      <td>0</td>\n",
       "      <td>0</td>\n",
       "      <td>0</td>\n",
       "      <td>0</td>\n",
       "      <td>0</td>\n",
       "      <td>0</td>\n",
       "      <td>...</td>\n",
       "      <td>0</td>\n",
       "      <td>0</td>\n",
       "      <td>0</td>\n",
       "      <td>0</td>\n",
       "      <td>0</td>\n",
       "      <td>0</td>\n",
       "      <td>0</td>\n",
       "      <td>0</td>\n",
       "      <td>0</td>\n",
       "      <td>0</td>\n",
       "    </tr>\n",
       "    <tr>\n",
       "      <th>1</th>\n",
       "      <td>15</td>\n",
       "      <td>0</td>\n",
       "      <td>0</td>\n",
       "      <td>0</td>\n",
       "      <td>0</td>\n",
       "      <td>0</td>\n",
       "      <td>0</td>\n",
       "      <td>0</td>\n",
       "      <td>0</td>\n",
       "      <td>0</td>\n",
       "      <td>...</td>\n",
       "      <td>0</td>\n",
       "      <td>0</td>\n",
       "      <td>0</td>\n",
       "      <td>0</td>\n",
       "      <td>0</td>\n",
       "      <td>0</td>\n",
       "      <td>0</td>\n",
       "      <td>0</td>\n",
       "      <td>0</td>\n",
       "      <td>0</td>\n",
       "    </tr>\n",
       "    <tr>\n",
       "      <th>2</th>\n",
       "      <td>16</td>\n",
       "      <td>0</td>\n",
       "      <td>0</td>\n",
       "      <td>0</td>\n",
       "      <td>0</td>\n",
       "      <td>0</td>\n",
       "      <td>0</td>\n",
       "      <td>0</td>\n",
       "      <td>0</td>\n",
       "      <td>0</td>\n",
       "      <td>...</td>\n",
       "      <td>0</td>\n",
       "      <td>0</td>\n",
       "      <td>0</td>\n",
       "      <td>0</td>\n",
       "      <td>0</td>\n",
       "      <td>0</td>\n",
       "      <td>0</td>\n",
       "      <td>0</td>\n",
       "      <td>0</td>\n",
       "      <td>0</td>\n",
       "    </tr>\n",
       "    <tr>\n",
       "      <th>3</th>\n",
       "      <td>26</td>\n",
       "      <td>0</td>\n",
       "      <td>0</td>\n",
       "      <td>0</td>\n",
       "      <td>0</td>\n",
       "      <td>0</td>\n",
       "      <td>0</td>\n",
       "      <td>0</td>\n",
       "      <td>0</td>\n",
       "      <td>0</td>\n",
       "      <td>...</td>\n",
       "      <td>0</td>\n",
       "      <td>0</td>\n",
       "      <td>0</td>\n",
       "      <td>0</td>\n",
       "      <td>0</td>\n",
       "      <td>0</td>\n",
       "      <td>0</td>\n",
       "      <td>0</td>\n",
       "      <td>0</td>\n",
       "      <td>0</td>\n",
       "    </tr>\n",
       "    <tr>\n",
       "      <th>4</th>\n",
       "      <td>53</td>\n",
       "      <td>0</td>\n",
       "      <td>0</td>\n",
       "      <td>0</td>\n",
       "      <td>0</td>\n",
       "      <td>0</td>\n",
       "      <td>0</td>\n",
       "      <td>0</td>\n",
       "      <td>0</td>\n",
       "      <td>0</td>\n",
       "      <td>...</td>\n",
       "      <td>0</td>\n",
       "      <td>0</td>\n",
       "      <td>0</td>\n",
       "      <td>0</td>\n",
       "      <td>0</td>\n",
       "      <td>0</td>\n",
       "      <td>0</td>\n",
       "      <td>0</td>\n",
       "      <td>0</td>\n",
       "      <td>0</td>\n",
       "    </tr>\n",
       "  </tbody>\n",
       "</table>\n",
       "<p>5 rows × 785 columns</p>\n",
       "</div>"
      ],
      "text/plain": [
       "   Id  1x1  1x2  1x3  1x4  1x5  1x6  1x7  1x8  1x9  ...  28x19  28x20  28x21  \\\n",
       "0  10    0    0    0    0    0    0    0    0    0  ...      0      0      0   \n",
       "1  15    0    0    0    0    0    0    0    0    0  ...      0      0      0   \n",
       "2  16    0    0    0    0    0    0    0    0    0  ...      0      0      0   \n",
       "3  26    0    0    0    0    0    0    0    0    0  ...      0      0      0   \n",
       "4  53    0    0    0    0    0    0    0    0    0  ...      0      0      0   \n",
       "\n",
       "   28x22  28x23  28x24  28x25  28x26  28x27  28x28  \n",
       "0      0      0      0      0      0      0      0  \n",
       "1      0      0      0      0      0      0      0  \n",
       "2      0      0      0      0      0      0      0  \n",
       "3      0      0      0      0      0      0      0  \n",
       "4      0      0      0      0      0      0      0  \n",
       "\n",
       "[5 rows x 785 columns]"
      ]
     },
     "execution_count": 12,
     "metadata": {},
     "output_type": "execute_result"
    }
   ],
   "source": [
    "test.head()"
   ]
  },
  {
   "cell_type": "markdown",
   "metadata": {},
   "source": [
    "### 1.2. Data preprocessing"
   ]
  },
  {
   "cell_type": "code",
   "execution_count": 7,
   "metadata": {
    "scrolled": true
   },
   "outputs": [
    {
     "name": "stdout",
     "output_type": "stream",
     "text": [
      "x_train shape:  (59649, 28, 28, 1)\n",
      "x_test shape:  (10351, 28, 28, 1)\n"
     ]
    }
   ],
   "source": [
    "IMG_SIZE = 28\n",
    "\n",
    "# Clean train and test sets\n",
    "x_train = train.drop([\"Id\", \"label\"], axis=1)\n",
    "y_train = train[\"label\"]\n",
    "x_test = test.drop(\"Id\", axis=1)\n",
    "\n",
    "# Reshape data with shape which will be put into NN\n",
    "x_train = x_train.values.reshape(x_train.shape[0], IMG_SIZE, IMG_SIZE, 1)\n",
    "x_test = x_test.values.reshape(x_test.shape[0], IMG_SIZE, IMG_SIZE, 1)\n",
    "\n",
    "print(\"x_train shape: \", x_train.shape)\n",
    "print(\"x_test shape: \", x_test.shape)\n",
    "\n",
    "# Normalize data: value of each pixel may be from 0 to 255, \n",
    "# so divide every value on 255 and get data normalized data from 0 to 1\n",
    "x_train = x_train/255.0\n",
    "x_test = x_test/255.0"
   ]
  },
  {
   "cell_type": "code",
   "execution_count": 14,
   "metadata": {},
   "outputs": [
    {
     "name": "stdout",
     "output_type": "stream",
     "text": [
      "x_train shape:  (59649, 28, 28, 1)\n",
      "x_test shape:  (10351, 28, 28, 1)\n"
     ]
    }
   ],
   "source": [
    "# Clean train and test sets\n",
    "x_train = train.drop([\"Id\", \"label\"], axis=1)\n",
    "y_train = train[\"label\"]\n",
    "x_test = test.drop(\"Id\", axis=1)\n",
    "\n",
    "# Reshape data with shape which will be put into NN\n",
    "x_train = x_train.values.reshape(x_train.shape[0], 28, 28, 1)\n",
    "x_test = x_test.values.reshape(x_test.shape[0], 28, 28, 1)\n",
    "\n",
    "print(\"x_train shape: \", x_train.shape)\n",
    "print(\"x_test shape: \", x_test.shape)"
   ]
  },
  {
   "cell_type": "code",
   "execution_count": 8,
   "metadata": {
    "scrolled": true
   },
   "outputs": [
    {
     "data": {
      "text/plain": [
       "<matplotlib.axes._subplots.AxesSubplot at 0x7f2bfc07dd60>"
      ]
     },
     "execution_count": 8,
     "metadata": {},
     "output_type": "execute_result"
    },
    {
     "data": {
      "image/png": "[encoded data removed]",
      "text/plain": [
       "<Figure size 432x288 with 1 Axes>"
      ]
     },
     "metadata": {
      "needs_background": "light"
     },
     "output_type": "display_data"
    }
   ],
   "source": [
    "# Let's check distribution of lables to know we don't need a different splitting like cross-validation\n",
    "sns.countplot(y_train)"
   ]
  },
  {
   "cell_type": "code",
   "execution_count": 9,
   "metadata": {},
   "outputs": [
    {
     "data": {
      "text/plain": [
       "(5965, 28, 28, 1)"
      ]
     },
     "execution_count": 9,
     "metadata": {},
     "output_type": "execute_result"
    }
   ],
   "source": [
    "# Split train data to train and validation sets with val_size=0.1\n",
    "X_train, X_val, y_train, y_val = train_test_split(x_train, y_train, test_size=0.1, random_state=42)\n",
    "\n",
    "X_val.shape"
   ]
  },
  {
   "cell_type": "markdown",
   "metadata": {},
   "source": [
    "## 2. CNN"
   ]
  },
  {
   "cell_type": "markdown",
   "metadata": {},
   "source": [
    "### 2.1. Data augmentation"
   ]
  },
  {
   "cell_type": "markdown",
   "metadata": {},
   "source": [
    "Important part of this task is data augmentation. I used an ImageDataGenerator to prevent overfitting and improve an accuracy of predictions. \n",
    "\n",
    "Accuracy:\n",
    "\n",
    "Without data augmentation: 0.9909\n",
    "\n",
    "With data agmentation: 0.99573"
   ]
  },
  {
   "cell_type": "code",
   "execution_count": 10,
   "metadata": {},
   "outputs": [],
   "source": [
    "datagen = ImageDataGenerator(\n",
    "    rotation_range=10,          # Angle of rotation\n",
    "    width_shift_range=0.1,      # Width shift\n",
    "    height_shift_range=0.1,     # Height shfst\n",
    "    zoom_range=0.1,             #Zoom\n",
    "    horizontal_flip=False,\n",
    "    vertical_flip=False)\n",
    "datagen.fit(X_train)"
   ]
  },
  {
   "cell_type": "code",
   "execution_count": 11,
   "metadata": {
    "scrolled": true
   },
   "outputs": [
    {
     "data": {
      "image/png": "[encoded data removed]",
      "text/plain": [
       "<Figure size 2016x2016 with 10 Axes>"
      ]
     },
     "metadata": {
      "needs_background": "light"
     },
     "output_type": "display_data"
    }
   ],
   "source": [
    "# Let's plot couple of images to show what data augmentation does\n",
    "\n",
    "def plotImages(images_arr):\n",
    "    fig, axes = plt.subplots(1, 10, figsize=(28,28))\n",
    "    axes = axes.flatten()\n",
    "    for img, ax in zip( images_arr, axes):\n",
    "        ax.imshow(img, cmap=plt.get_cmap(\"gray\"))\n",
    "    plt.tight_layout()\n",
    "    plt.show()\n",
    "    \n",
    "    \n",
    "augmented_images = [datagen.flow(X_train, y_train, batch_size=64)[0][0][0].reshape(28,28) for i in range(10)]\n",
    "plotImages(augmented_images)"
   ]
  },
  {
   "cell_type": "markdown",
   "metadata": {},
   "source": [
    "### 2.2. Callbacks"
   ]
  },
  {
   "cell_type": "markdown",
   "metadata": {},
   "source": [
    "Another important aspect to improve an accuracy and automatize process of fitting are callbacks. \n",
    "\n",
    "In this task i used 2 kinds of existing callbaks: EarlyStopping and ReduceLROnPlateau"
   ]
  },
  {
   "cell_type": "code",
   "execution_count": 12,
   "metadata": {},
   "outputs": [],
   "source": [
    "# I used this callback to stop fitting model when validation accuracy doesn't improve for 20 epochs \n",
    "# and restored best weights\n",
    "\n",
    "earlystopping = EarlyStopping(monitor =\"val_accuracy\",\n",
    "                              mode = 'auto', patience = 20,\n",
    "                              restore_best_weights = True)"
   ]
  },
  {
   "cell_type": "code",
   "execution_count": 13,
   "metadata": {},
   "outputs": [],
   "source": [
    "# I used this callback to reduce learning rate when validation accuracy doesn't improve for 8 epochs\n",
    "# This method give a huge chance that accuracy will be improved\n",
    "\n",
    "learning_rate_reduction = ReduceLROnPlateau(monitor='val_accuracy', \n",
    "                                            patience=8, \n",
    "                                            verbose=1, \n",
    "                                            factor=0.5, \n",
    "                                            min_lr=0.0001)"
   ]
  },
  {
   "cell_type": "markdown",
   "metadata": {},
   "source": [
    "### 2.3. CNN"
   ]
  },
  {
   "cell_type": "markdown",
   "metadata": {},
   "source": [
    "After some expiriments this architecture was chosen:"
   ]
  },
  {
   "cell_type": "code",
   "execution_count": 14,
   "metadata": {},
   "outputs": [],
   "source": [
    "model = models.Sequential()\n",
    "\n",
    "model.add(layers.Conv2D(32, (5,5), activation=\"relu\", padding=\"same\", input_shape=(28, 28, 1)))\n",
    "model.add(layers.BatchNormalization())\n",
    "model.add(layers.Conv2D(32, (5,5), activation=\"relu\", padding=\"same\"))\n",
    "model.add(layers.BatchNormalization())\n",
    "model.add(layers.MaxPool2D((2,2)))\n",
    "model.add(layers.Dropout(0.25))\n",
    "\n",
    "model.add(layers.Conv2D(64, (3,3), activation=\"relu\", padding=\"same\"))\n",
    "model.add(layers.BatchNormalization())\n",
    "model.add(layers.Conv2D(64, (3,3), activation=\"relu\", padding=\"same\"))\n",
    "model.add(layers.BatchNormalization())\n",
    "model.add(layers.MaxPool2D((2,2)))\n",
    "model.add(layers.Dropout(0.25))\n",
    "\n",
    "model.add(layers.Conv2D(128, (3,3), activation=\"relu\", padding=\"same\"))\n",
    "model.add(layers.BatchNormalization())\n",
    "model.add(layers.MaxPool2D((2,2), strides=(2,2)))\n",
    "model.add(layers.Dropout(0.25))\n",
    "\n",
    "model.add(layers.Flatten())\n",
    "model.add(layers.Dense(512, activation=\"relu\"))\n",
    "model.add(layers.BatchNormalization())\n",
    "model.add(layers.Dropout(0.5))\n",
    "model.add(layers.Dense(10, activation=\"softmax\"))"
   ]
  },
  {
   "cell_type": "markdown",
   "metadata": {},
   "source": [
    "#### Set the optimizer, loss and target metrics"
   ]
  },
  {
   "cell_type": "code",
   "execution_count": 15,
   "metadata": {},
   "outputs": [],
   "source": [
    "# I used an \"adam\" optimizer which can be looked at \n",
    "# as a combination of RMSprop and Stochastic Gradient Descent with momentum.\n",
    "\n",
    "model.compile(optimizer=\"adam\",\n",
    "             loss=\"sparse_categorical_crossentropy\",\n",
    "             metrics=[\"accuracy\"])"
   ]
  },
  {
   "cell_type": "code",
   "execution_count": 16,
   "metadata": {},
   "outputs": [
    {
     "name": "stdout",
     "output_type": "stream",
     "text": [
      "Model: \"sequential\"\n",
      "_________________________________________________________________\n",
      "Layer (type)                 Output Shape              Param #   \n",
      "=================================================================\n",
      "conv2d (Conv2D)              (None, 28, 28, 32)        832       \n",
      "_________________________________________________________________\n",
      "batch_normalization (BatchNo (None, 28, 28, 32)        128       \n",
      "_________________________________________________________________\n",
      "conv2d_1 (Conv2D)            (None, 28, 28, 32)        25632     \n",
      "_________________________________________________________________\n",
      "batch_normalization_1 (Batch (None, 28, 28, 32)        128       \n",
      "_________________________________________________________________\n",
      "max_pooling2d (MaxPooling2D) (None, 14, 14, 32)        0         \n",
      "_________________________________________________________________\n",
      "dropout (Dropout)            (None, 14, 14, 32)        0         \n",
      "_________________________________________________________________\n",
      "conv2d_2 (Conv2D)            (None, 14, 14, 64)        18496     \n",
      "_________________________________________________________________\n",
      "batch_normalization_2 (Batch (None, 14, 14, 64)        256       \n",
      "_________________________________________________________________\n",
      "conv2d_3 (Conv2D)            (None, 14, 14, 64)        36928     \n",
      "_________________________________________________________________\n",
      "batch_normalization_3 (Batch (None, 14, 14, 64)        256       \n",
      "_________________________________________________________________\n",
      "max_pooling2d_1 (MaxPooling2 (None, 7, 7, 64)          0         \n",
      "_________________________________________________________________\n",
      "dropout_1 (Dropout)          (None, 7, 7, 64)          0         \n",
      "_________________________________________________________________\n",
      "conv2d_4 (Conv2D)            (None, 7, 7, 128)         73856     \n",
      "_________________________________________________________________\n",
      "batch_normalization_4 (Batch (None, 7, 7, 128)         512       \n",
      "_________________________________________________________________\n",
      "max_pooling2d_2 (MaxPooling2 (None, 3, 3, 128)         0         \n",
      "_________________________________________________________________\n",
      "dropout_2 (Dropout)          (None, 3, 3, 128)         0         \n",
      "_________________________________________________________________\n",
      "flatten (Flatten)            (None, 1152)              0         \n",
      "_________________________________________________________________\n",
      "dense (Dense)                (None, 512)               590336    \n",
      "_________________________________________________________________\n",
      "batch_normalization_5 (Batch (None, 512)               2048      \n",
      "_________________________________________________________________\n",
      "dropout_3 (Dropout)          (None, 512)               0         \n",
      "_________________________________________________________________\n",
      "dense_1 (Dense)              (None, 10)                5130      \n",
      "=================================================================\n",
      "Total params: 754,538\n",
      "Trainable params: 752,874\n",
      "Non-trainable params: 1,664\n",
      "_________________________________________________________________\n"
     ]
    }
   ],
   "source": [
    "model.summary()"
   ]
  },
  {
   "cell_type": "code",
   "execution_count": 17,
   "metadata": {
    "scrolled": false
   },
   "outputs": [
    {
     "data": {
      "image/png": "[encoded data removed]",
      "text/plain": [
       "<IPython.core.display.Image object>"
      ]
     },
     "execution_count": 17,
     "metadata": {},
     "output_type": "execute_result"
    }
   ],
   "source": [
    "plot_model(model, to_file=\"model.png\")"
   ]
  },
  {
   "cell_type": "markdown",
   "metadata": {},
   "source": [
    "### 2.4. Fitting and tuning hyperparameters"
   ]
  },
  {
   "cell_type": "code",
   "execution_count": 18,
   "metadata": {},
   "outputs": [],
   "source": [
    "# I chose these numbers of epochs randomly and batch_size after experiments\n",
    "\n",
    "EPOCHS = 300 \n",
    "batch_size = 64"
   ]
  },
  {
   "cell_type": "code",
   "execution_count": 19,
   "metadata": {
    "scrolled": true
   },
   "outputs": [
    {
     "name": "stdout",
     "output_type": "stream",
     "text": [
      "Epoch 1/300\n",
      "839/839 [==============================] - 250s 298ms/step - loss: 0.3158 - accuracy: 0.9034 - val_loss: 0.0928 - val_accuracy: 0.9722\n",
      "Epoch 2/300\n",
      "839/839 [==============================] - 248s 296ms/step - loss: 0.1036 - accuracy: 0.9680 - val_loss: 0.0345 - val_accuracy: 0.9899\n",
      "Epoch 3/300\n",
      "839/839 [==============================] - 249s 297ms/step - loss: 0.0779 - accuracy: 0.9763 - val_loss: 0.0357 - val_accuracy: 0.9886\n",
      "Epoch 4/300\n",
      "839/839 [==============================] - 250s 298ms/step - loss: 0.0688 - accuracy: 0.9785 - val_loss: 0.0278 - val_accuracy: 0.9911\n",
      "Epoch 5/300\n",
      "839/839 [==============================] - 249s 297ms/step - loss: 0.0614 - accuracy: 0.9804 - val_loss: 0.0339 - val_accuracy: 0.9898\n",
      "Epoch 6/300\n",
      "839/839 [==============================] - 251s 299ms/step - loss: 0.0556 - accuracy: 0.9834 - val_loss: 0.0334 - val_accuracy: 0.9898\n",
      "Epoch 7/300\n",
      "839/839 [==============================] - 254s 302ms/step - loss: 0.0541 - accuracy: 0.9837 - val_loss: 0.0220 - val_accuracy: 0.9935\n",
      "Epoch 8/300\n",
      "839/839 [==============================] - 251s 299ms/step - loss: 0.0492 - accuracy: 0.9848 - val_loss: 0.0275 - val_accuracy: 0.9921\n",
      "Epoch 9/300\n",
      "839/839 [==============================] - 251s 300ms/step - loss: 0.0456 - accuracy: 0.9857 - val_loss: 0.0313 - val_accuracy: 0.9898\n",
      "Epoch 10/300\n",
      "839/839 [==============================] - 251s 299ms/step - loss: 0.0448 - accuracy: 0.9870 - val_loss: 0.0187 - val_accuracy: 0.9931\n",
      "Epoch 11/300\n",
      "839/839 [==============================] - 250s 298ms/step - loss: 0.0393 - accuracy: 0.9882 - val_loss: 0.0301 - val_accuracy: 0.9915\n",
      "Epoch 12/300\n",
      "839/839 [==============================] - 251s 299ms/step - loss: 0.0403 - accuracy: 0.9880 - val_loss: 0.0148 - val_accuracy: 0.9955\n",
      "Epoch 13/300\n",
      "839/839 [==============================] - 251s 299ms/step - loss: 0.0353 - accuracy: 0.9889 - val_loss: 0.0170 - val_accuracy: 0.9946\n",
      "Epoch 14/300\n",
      "839/839 [==============================] - 252s 300ms/step - loss: 0.0354 - accuracy: 0.9893 - val_loss: 0.0222 - val_accuracy: 0.9936\n",
      "Epoch 15/300\n",
      "839/839 [==============================] - 250s 299ms/step - loss: 0.0359 - accuracy: 0.9896 - val_loss: 0.0140 - val_accuracy: 0.9961\n",
      "Epoch 16/300\n",
      "839/839 [==============================] - 251s 299ms/step - loss: 0.0319 - accuracy: 0.9899 - val_loss: 0.0180 - val_accuracy: 0.9940\n",
      "Epoch 17/300\n",
      "839/839 [==============================] - 250s 298ms/step - loss: 0.0329 - accuracy: 0.9899 - val_loss: 0.0184 - val_accuracy: 0.9946\n",
      "Epoch 18/300\n",
      "839/839 [==============================] - 251s 299ms/step - loss: 0.0295 - accuracy: 0.9908 - val_loss: 0.0225 - val_accuracy: 0.9938\n",
      "Epoch 19/300\n",
      "839/839 [==============================] - 251s 299ms/step - loss: 0.0291 - accuracy: 0.9911 - val_loss: 0.0146 - val_accuracy: 0.9956\n",
      "Epoch 20/300\n",
      "839/839 [==============================] - 253s 301ms/step - loss: 0.0292 - accuracy: 0.9910 - val_loss: 0.0117 - val_accuracy: 0.9955\n",
      "Epoch 21/300\n",
      "839/839 [==============================] - 254s 303ms/step - loss: 0.0289 - accuracy: 0.9912 - val_loss: 0.0261 - val_accuracy: 0.9926\n",
      "Epoch 22/300\n",
      "839/839 [==============================] - 251s 299ms/step - loss: 0.0288 - accuracy: 0.9913 - val_loss: 0.0246 - val_accuracy: 0.9931\n",
      "Epoch 23/300\n",
      "839/839 [==============================] - ETA: 0s - loss: 0.0259 - accuracy: 0.9923\n",
      "Epoch 00023: ReduceLROnPlateau reducing learning rate to 0.0005000000237487257.\n",
      "839/839 [==============================] - 251s 300ms/step - loss: 0.0259 - accuracy: 0.9923 - val_loss: 0.0130 - val_accuracy: 0.9958\n",
      "Epoch 24/300\n",
      "839/839 [==============================] - 250s 298ms/step - loss: 0.0216 - accuracy: 0.9936 - val_loss: 0.0131 - val_accuracy: 0.9958\n",
      "Epoch 25/300\n",
      "839/839 [==============================] - 251s 299ms/step - loss: 0.0183 - accuracy: 0.9944 - val_loss: 0.0146 - val_accuracy: 0.9951\n",
      "Epoch 26/300\n",
      "839/839 [==============================] - 251s 299ms/step - loss: 0.0188 - accuracy: 0.9944 - val_loss: 0.0150 - val_accuracy: 0.9955\n",
      "Epoch 27/300\n",
      "839/839 [==============================] - 251s 299ms/step - loss: 0.0175 - accuracy: 0.9950 - val_loss: 0.0139 - val_accuracy: 0.9950\n",
      "Epoch 28/300\n",
      "839/839 [==============================] - 251s 299ms/step - loss: 0.0164 - accuracy: 0.9949 - val_loss: 0.0121 - val_accuracy: 0.9966\n",
      "Epoch 29/300\n",
      "839/839 [==============================] - 251s 299ms/step - loss: 0.0169 - accuracy: 0.9948 - val_loss: 0.0142 - val_accuracy: 0.9961\n",
      "Epoch 30/300\n",
      "839/839 [==============================] - 251s 299ms/step - loss: 0.0180 - accuracy: 0.9941 - val_loss: 0.0118 - val_accuracy: 0.9961\n",
      "Epoch 31/300\n",
      "839/839 [==============================] - 250s 298ms/step - loss: 0.0162 - accuracy: 0.9949 - val_loss: 0.0127 - val_accuracy: 0.9958\n",
      "Epoch 32/300\n",
      "839/839 [==============================] - 251s 299ms/step - loss: 0.0164 - accuracy: 0.9947 - val_loss: 0.0122 - val_accuracy: 0.9956\n",
      "Epoch 33/300\n",
      "839/839 [==============================] - 252s 300ms/step - loss: 0.0159 - accuracy: 0.9951 - val_loss: 0.0108 - val_accuracy: 0.9970\n",
      "Epoch 34/300\n",
      "839/839 [==============================] - 251s 299ms/step - loss: 0.0161 - accuracy: 0.9947 - val_loss: 0.0109 - val_accuracy: 0.9963\n",
      "Epoch 35/300\n",
      "839/839 [==============================] - 252s 301ms/step - loss: 0.0143 - accuracy: 0.9952 - val_loss: 0.0112 - val_accuracy: 0.9965\n",
      "Epoch 36/300\n",
      "839/839 [==============================] - 255s 304ms/step - loss: 0.0142 - accuracy: 0.9955 - val_loss: 0.0143 - val_accuracy: 0.9958\n",
      "Epoch 37/300\n",
      "839/839 [==============================] - 252s 300ms/step - loss: 0.0147 - accuracy: 0.9955 - val_loss: 0.0146 - val_accuracy: 0.9946\n",
      "Epoch 38/300\n",
      "839/839 [==============================] - 253s 301ms/step - loss: 0.0144 - accuracy: 0.9956 - val_loss: 0.0108 - val_accuracy: 0.9963\n",
      "Epoch 39/300\n",
      "839/839 [==============================] - 252s 300ms/step - loss: 0.0135 - accuracy: 0.9957 - val_loss: 0.0102 - val_accuracy: 0.9970\n",
      "Epoch 40/300\n",
      "839/839 [==============================] - 252s 300ms/step - loss: 0.0138 - accuracy: 0.9953 - val_loss: 0.0102 - val_accuracy: 0.9958\n",
      "Epoch 41/300\n",
      "839/839 [==============================] - ETA: 0s - loss: 0.0130 - accuracy: 0.9960\n",
      "Epoch 00041: ReduceLROnPlateau reducing learning rate to 0.0002500000118743628.\n",
      "839/839 [==============================] - 253s 301ms/step - loss: 0.0130 - accuracy: 0.9960 - val_loss: 0.0125 - val_accuracy: 0.9961\n",
      "Epoch 42/300\n",
      "839/839 [==============================] - 256s 306ms/step - loss: 0.0114 - accuracy: 0.9962 - val_loss: 0.0112 - val_accuracy: 0.9970\n",
      "Epoch 43/300\n",
      "839/839 [==============================] - 256s 305ms/step - loss: 0.0106 - accuracy: 0.9964 - val_loss: 0.0106 - val_accuracy: 0.9970\n",
      "Epoch 44/300\n",
      "839/839 [==============================] - 252s 300ms/step - loss: 0.0105 - accuracy: 0.9967 - val_loss: 0.0106 - val_accuracy: 0.9973\n",
      "Epoch 45/300\n",
      "839/839 [==============================] - 252s 301ms/step - loss: 0.0111 - accuracy: 0.9966 - val_loss: 0.0115 - val_accuracy: 0.9975\n",
      "Epoch 46/300\n",
      "839/839 [==============================] - 252s 301ms/step - loss: 0.0094 - accuracy: 0.9972 - val_loss: 0.0109 - val_accuracy: 0.9968\n",
      "Epoch 47/300\n",
      "839/839 [==============================] - 253s 301ms/step - loss: 0.0097 - accuracy: 0.9971 - val_loss: 0.0124 - val_accuracy: 0.9968\n",
      "Epoch 48/300\n",
      "839/839 [==============================] - 252s 301ms/step - loss: 0.0103 - accuracy: 0.9967 - val_loss: 0.0122 - val_accuracy: 0.9963\n",
      "Epoch 49/300\n",
      "839/839 [==============================] - 252s 300ms/step - loss: 0.0100 - accuracy: 0.9969 - val_loss: 0.0098 - val_accuracy: 0.9968\n",
      "Epoch 50/300\n",
      "839/839 [==============================] - 255s 304ms/step - loss: 0.0094 - accuracy: 0.9969 - val_loss: 0.0093 - val_accuracy: 0.9970\n",
      "Epoch 51/300\n",
      "839/839 [==============================] - 252s 301ms/step - loss: 0.0093 - accuracy: 0.9970 - val_loss: 0.0087 - val_accuracy: 0.9973\n",
      "Epoch 52/300\n",
      "839/839 [==============================] - 256s 306ms/step - loss: 0.0090 - accuracy: 0.9972 - val_loss: 0.0092 - val_accuracy: 0.9973\n",
      "Epoch 53/300\n",
      "839/839 [==============================] - 255s 303ms/step - loss: 0.0094 - accuracy: 0.9967 - val_loss: 0.0082 - val_accuracy: 0.9980\n",
      "Epoch 54/300\n",
      "839/839 [==============================] - 249s 297ms/step - loss: 0.0097 - accuracy: 0.9970 - val_loss: 0.0087 - val_accuracy: 0.9973\n",
      "Epoch 55/300\n",
      "839/839 [==============================] - 249s 296ms/step - loss: 0.0093 - accuracy: 0.9971 - val_loss: 0.0096 - val_accuracy: 0.9972\n",
      "Epoch 56/300\n",
      "839/839 [==============================] - 249s 296ms/step - loss: 0.0094 - accuracy: 0.9971 - val_loss: 0.0103 - val_accuracy: 0.9973\n",
      "Epoch 57/300\n",
      "839/839 [==============================] - 249s 297ms/step - loss: 0.0091 - accuracy: 0.9971 - val_loss: 0.0098 - val_accuracy: 0.9972\n",
      "Epoch 58/300\n",
      "839/839 [==============================] - 249s 297ms/step - loss: 0.0092 - accuracy: 0.9969 - val_loss: 0.0113 - val_accuracy: 0.9963\n",
      "Epoch 59/300\n",
      "839/839 [==============================] - 250s 299ms/step - loss: 0.0093 - accuracy: 0.9971 - val_loss: 0.0114 - val_accuracy: 0.9965\n",
      "Epoch 60/300\n",
      "839/839 [==============================] - 249s 297ms/step - loss: 0.0090 - accuracy: 0.9970 - val_loss: 0.0095 - val_accuracy: 0.9975\n",
      "Epoch 61/300\n",
      "839/839 [==============================] - ETA: 0s - loss: 0.0086 - accuracy: 0.9973\n",
      "Epoch 00061: ReduceLROnPlateau reducing learning rate to 0.0001250000059371814.\n",
      "839/839 [==============================] - 249s 297ms/step - loss: 0.0086 - accuracy: 0.9973 - val_loss: 0.0106 - val_accuracy: 0.9968\n",
      "Epoch 62/300\n",
      "839/839 [==============================] - 249s 297ms/step - loss: 0.0070 - accuracy: 0.9975 - val_loss: 0.0091 - val_accuracy: 0.9973\n",
      "Epoch 63/300\n",
      "839/839 [==============================] - 251s 299ms/step - loss: 0.0082 - accuracy: 0.9974 - val_loss: 0.0089 - val_accuracy: 0.9977\n",
      "Epoch 64/300\n",
      "839/839 [==============================] - 260s 310ms/step - loss: 0.0078 - accuracy: 0.9974 - val_loss: 0.0098 - val_accuracy: 0.9972\n",
      "Epoch 65/300\n",
      "839/839 [==============================] - 250s 298ms/step - loss: 0.0072 - accuracy: 0.9975 - val_loss: 0.0085 - val_accuracy: 0.9978\n",
      "Epoch 66/300\n",
      "839/839 [==============================] - 251s 299ms/step - loss: 0.0066 - accuracy: 0.9981 - val_loss: 0.0091 - val_accuracy: 0.9977\n",
      "Epoch 67/300\n",
      "839/839 [==============================] - 249s 297ms/step - loss: 0.0072 - accuracy: 0.9976 - val_loss: 0.0103 - val_accuracy: 0.9970\n",
      "Epoch 68/300\n",
      "839/839 [==============================] - 249s 297ms/step - loss: 0.0075 - accuracy: 0.9977 - val_loss: 0.0097 - val_accuracy: 0.9972\n",
      "Epoch 69/300\n",
      "839/839 [==============================] - ETA: 0s - loss: 0.0071 - accuracy: 0.9978\n",
      "Epoch 00069: ReduceLROnPlateau reducing learning rate to 0.0001.\n",
      "839/839 [==============================] - 249s 297ms/step - loss: 0.0071 - accuracy: 0.9978 - val_loss: 0.0103 - val_accuracy: 0.9972\n",
      "Epoch 70/300\n",
      "839/839 [==============================] - 248s 296ms/step - loss: 0.0064 - accuracy: 0.9979 - val_loss: 0.0107 - val_accuracy: 0.9975\n",
      "Epoch 71/300\n",
      "839/839 [==============================] - 253s 301ms/step - loss: 0.0072 - accuracy: 0.9977 - val_loss: 0.0102 - val_accuracy: 0.9975\n",
      "Epoch 72/300\n",
      "839/839 [==============================] - 251s 299ms/step - loss: 0.0077 - accuracy: 0.9977 - val_loss: 0.0107 - val_accuracy: 0.9977\n",
      "Epoch 73/300\n",
      "839/839 [==============================] - 249s 297ms/step - loss: 0.0064 - accuracy: 0.9980 - val_loss: 0.0108 - val_accuracy: 0.9968\n"
     ]
    }
   ],
   "source": [
    "history = model.fit(datagen.flow(X_train, y_train, batch_size=batch_size),\n",
    "                    validation_data=(X_val, y_val), \n",
    "                    epochs=EPOCHS,\n",
    "                    callbacks=[earlystopping, learning_rate_reduction])"
   ]
  },
  {
   "cell_type": "markdown",
   "metadata": {},
   "source": [
    "### Let' plot some graphics with loss and accuracy to know about quality of fitting:"
   ]
  },
  {
   "cell_type": "code",
   "execution_count": 45,
   "metadata": {},
   "outputs": [
    {
     "data": {
      "image/png": "[encoded data removed]",
      "text/plain": [
       "<Figure size 432x288 with 1 Axes>"
      ]
     },
     "metadata": {
      "needs_background": "light"
     },
     "output_type": "display_data"
    }
   ],
   "source": [
    "plt.plot(history.history['loss'])\n",
    "plt.plot(history.history['val_loss'])\n",
    "plt.title('model loss')\n",
    "plt.ylabel('loss')\n",
    "plt.xlabel('epoch')\n",
    "plt.legend(['train', 'validation'], loc='upper right')\n",
    "plt.savefig(\"loss.png\")\n",
    "plt.show()"
   ]
  },
  {
   "cell_type": "code",
   "execution_count": 46,
   "metadata": {
    "scrolled": true
   },
   "outputs": [
    {
     "data": {
      "image/png": "[encoded data removed]",
      "text/plain": [
       "<Figure size 432x288 with 1 Axes>"
      ]
     },
     "metadata": {
      "needs_background": "light"
     },
     "output_type": "display_data"
    }
   ],
   "source": [
    "plt.plot(history.history['accuracy'])\n",
    "plt.plot(history.history['val_accuracy'])\n",
    "plt.title('model loss')\n",
    "plt.ylabel('loss')\n",
    "plt.xlabel('epoch')\n",
    "plt.legend(['train', 'validation'], loc='lower right')\n",
    "plt.savefig(\"accuracy.png\")\n",
    "plt.show()"
   ]
  },
  {
   "cell_type": "markdown",
   "metadata": {},
   "source": [
    "## 3. Submission"
   ]
  },
  {
   "cell_type": "code",
   "execution_count": 21,
   "metadata": {},
   "outputs": [
    {
     "data": {
      "text/plain": [
       "array([3, 7, 2, ..., 1, 3, 0])"
      ]
     },
     "execution_count": 21,
     "metadata": {},
     "output_type": "execute_result"
    }
   ],
   "source": [
    "# Make predictions and chose argmax with max probability\n",
    "\n",
    "predictions = model.predict(x_test)\n",
    "sub = np.argmax(predictions, axis=1)\n",
    "sub"
   ]
  },
  {
   "cell_type": "code",
   "execution_count": 22,
   "metadata": {},
   "outputs": [],
   "source": [
    "# Save predictions to .csv"
   ]
  },
  {
   "cell_type": "code",
   "execution_count": 23,
   "metadata": {},
   "outputs": [],
   "source": [
    "submissions=pd.DataFrame({\"Id\": test[\"Id\"],\n",
    "                         \"Label\": sub})\n",
    "submissions.to_csv(f\"mnist_lab_cnn_5layers_batchnorm_dropouts_callbacks.csv\", index=False, header=True)"
   ]
  },
  {
   "cell_type": "markdown",
   "metadata": {},
   "source": [
    "### Let's print some results to demonstrate how our model predicts a new data"
   ]
  },
  {
   "cell_type": "code",
   "execution_count": 50,
   "metadata": {},
   "outputs": [
    {
     "data": {
      "image/png": "[encoded data removed]",
      "text/plain": [
       "<Figure size 1440x1440 with 5 Axes>"
      ]
     },
     "metadata": {
      "needs_background": "light"
     },
     "output_type": "display_data"
    }
   ],
   "source": [
    "fig, axes = plt.subplots(1, 5, figsize=(20, 20))\n",
    "images = x_test[100:105]\n",
    "labels = submissions[\"Label\"][100:105]\n",
    "images = np.array(images, dtype=\"float32\")\n",
    "for image, ax, label in zip(images, axes, labels):\n",
    "    ax.imshow(image.reshape(28,28), cmap=plt.get_cmap('gray'))\n",
    "    ax.set_title(label)"
   ]
  }
 ],
 "metadata": {
  "kernelspec": {
   "display_name": "Python 3",
   "language": "python",
   "name": "python3"
  },
  "language_info": {
   "codemirror_mode": {
    "name": "ipython",
    "version": 3
   },
   "file_extension": ".py",
   "mimetype": "text/x-python",
   "name": "python",
   "nbconvert_exporter": "python",
   "pygments_lexer": "ipython3",
   "version": "3.8.3"
  }
 },
 "nbformat": 4,
 "nbformat_minor": 4
}
